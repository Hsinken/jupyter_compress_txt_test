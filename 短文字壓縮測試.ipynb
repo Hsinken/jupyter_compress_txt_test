{
 "cells": [
  {
   "cell_type": "markdown",
   "metadata": {},
   "source": [
    "# 短文字壓縮測試"
   ]
  },
  {
   "cell_type": "markdown",
   "metadata": {},
   "source": [
    "## 目的\n",
    "不使用DB或任何存檔手段，將72字元無損壓縮成32內字元，以符合API限制。"
   ]
  },
  {
   "cell_type": "markdown",
   "metadata": {},
   "source": [
    "## 現階段結果\n",
    "- 因字串過短壓縮後又需用Base64轉成可被API傳送的字元，無法達32字元目標。\n",
    "- 若資料量越大則壓縮效果越明顯但1k始終沒法達成目標。\n",
    "\n",
    "## 思考方向\n",
    "- 壓縮後結果不用Base64再轉字串，因爲Base64將會讓資料大4/3倍。"
   ]
  },
  {
   "cell_type": "markdown",
   "metadata": {},
   "source": [
    "## 主流壓縮方式測試"
   ]
  },
  {
   "cell_type": "markdown",
   "metadata": {},
   "source": [
    "### 72字元壓縮測試->目標32字元內"
   ]
  },
  {
   "cell_type": "code",
   "execution_count": 2,
   "metadata": {},
   "outputs": [
    {
     "name": "stdout",
     "output_type": "stream",
     "text": [
      "InStr(72):KKC1AVFRX1SHL0836GHYVLA55WBQKLFN1OJE6W7TIMDTBJZKULGNWHKJ41KU2J6FHYYKGRGW\n",
      "RepeatStr(149):STACK OVERFLOW STACK OVERFLOW STACK OVERFLOW STACK OVERFLOW STACK OVERFLOW STACK OVERFLOW STACK OVERFLOW STACK OVERFLOW STACK OVERFLOW STACK OVERFLOW\n",
      "InStr 100x(7200)\n",
      "InToHex(144):4b4b433141564652583153484c30383336474859564c4135355742514b4c464e314f4a4536573754494d4454424a5a4b554c474e57484b4a34314b55324a36464859594b47524757\n",
      "InToBase64(96):S0tDMUFWRlJYMVNITDA4MzZHSFlWTEE1NVdCUUtMRk4xT0pFNlc3VElNRFRCSlpLVUxHTldIS0o0MUtVMko2RkhZWUtHUkdX\n",
      "\n",
      "=== Brotli(Google) ===\n",
      "Requirement already satisfied: brotli in /anaconda3/lib/python3.7/site-packages (1.0.7)\n",
      "Out <Brotli> Ori(84):G0cA-GVwXqyDqnWWLChFDz1nDeXt1gt3KEBg5sN3F0npo2YursGeLHv4idUclf58Fd-ekBOB-UKJOb7sl38A\n",
      "Out <Brotli> Hex(108):G48A-AVqzI1r-PeA2yhWpUhwAUCFYZCCcJJeboVFc_WoJSVFezu5hCy7WA6GS_Ip-DlY6VIZNi8YFseHsbkUn4tmOELB2FocJUl7ezOUlwI=\n",
      "Out <Brotli> B64(132):G18A-I3EdPuCfOcQVSthZKYG58V6hTLoVAVUqsAUC7w7sRXRxB_1zIptEWKgWX_OAzomISGyHZcoik7LH7Q3lFZqj4Uak9H2qY-CcTXj6OXhWIqlhRWdsTUs-UObJ3g0lCk=\n",
      "Out <Brotli> Repeat(36):G5QA-I2Uq7NLOTRFVUFL5YpgJUBPmk8zAA==\n",
      "Out <Brotli> 100x(6264)\n",
      "\n",
      "=== bzip2 ===\n",
      "Out <bzip2> Ori(136):QlpoOTFBWSZTWZpumQIAABSOAH_AP_-_8CAASMPU02oHqDRkNoyIUmRgmATAIY71bBZlDcgJykWyM-jl0KgGCCpno31DvomdHVZyMarYZIhj1owMMlj9E-mgrsXckU4UJCabpkCA\n",
      "Out <bzip2> Hex(152):QlpoOTFBWSZTWZCwtpMAAB6JAH_gPwAgAHURT0zU9FP1E9QantRNTajIRLy8ACNxHveYJ3OmQeXdamudeu65bTrl242Bj6z49ZRe-GCa1AlJhNNIojDY9ZWXQ0GBtDASG08NpJfi7kinChISFhbSYA==\n",
      "Out <bzip2> B64(164):QlpoOTFBWSZTWdh82CUAABYPgHwAL3cf8AxMxFAgAEjGjQeSeoMmRkzU9IIp-qYg02oAxBp6TQ2uUy-Q0J8wQLopjIjqAzqCyahdKyfGwT79ohm5eC7WVqes_dlTPHOEJ0oxwQpZAwjjRJXhoaReYfi7kinChIbD5sEo\n",
      "Out <bzip2> Repeat(88):QlpoOTFBWSZTWYprqCIAADaWAEAAKwydgCAAQFKoAyaEA0AdJqPk5TSfJ4mE9TKZTHEaTRPxdyRThQkIprqCIA==\n",
      "Out <Brotli> 100x(6384)\n",
      "\n",
      "=== lzma(7z) ===\n",
      "Out <lzma> Ori(172):_Td6WFoAAATm1rRGAgAhARYAAAB0L-WjAQBHS0tDMUFWRlJYMVNITDA4MzZHSFlWTEE1NVdCUUtMRk4xT0pFNlc3VElNRFRCSlpLVUxHTldIS0o0MUtVMko2RkhZWUtHUkdXAKRAwKzwVl_gAAFgSC4XfD0ftvN9AQAAAAAEWVo=\n",
      "Out <lzma> Hex(236):_Td6WFoAAATm1rRGAgAhARYAAAB0L-Wj4ACPAG9dABoYnQRmMl_Qw4BzN7FqoMoxhOVOexdIbb8BzOn_CElrpvMvGWUO89K6EyE6WBy9D0hs49tI3nMOoQogVfT5LyTLCe8ysL0ylgVhQ0R7o-Cw7zJU-HF8l-uyRLyujWLwE0OIc7fpTDW8Wf3m9LJNAAAAUbgv2wQ5qyQAAYsBkAEAAOWSwDaxxGf7AgAAAAAEWVo=\n",
      "Out <lzma> B64(204):_Td6WFoAAATm1rRGAgAhARYAAAB0L-WjAQBfUzB0RE1VRldSbEpZTVZOSVREQTRNelpIU0ZsV1RFRTFOVmRDVVV0TVJrNHhUMHBGTmxjM1ZFbE5SRlJDU2xwTFZVeEhUbGRJUzBvME1VdFZNa28yUmtoWldVdEhVa2RYAIWerME7I-o0AAF4YI0n0ooftvN9AQAAAAAEWVo=\n",
      "Out <lzma> Repeat(120):_Td6WFoAAATm1rRGAgAhARYAAAB0L-Wj4ACUABZdACmVBCR_recCXLDtRRUhEeWI1QrBAAAAAAAccqYRsg1w1wABMpUBAAAAfr29K7HEZ_sCAAAAAARZWg==\n",
      "Out <Brotli> 100x(6568)\n",
      "\n",
      "=== zstd(Facebook)===\n",
      "Requirement already satisfied: zstandard in /anaconda3/lib/python3.7/site-packages (0.11.1)\n",
      "Out <zstd> Ori(108):KLUv_SBIQQIAS0tDMUFWRlJYMVNITDA4MzZHSFlWTEE1NVdCUUtMRk4xT0pFNlc3VElNRFRCSlpLVUxHTldIS0o0MUtVMko2RkhZWUtHUkdX\n",
      "Out <zstd> Hex(128):KLUv_SCQtQIAcsgSEZABMAD9OV41llOmrSvh_1cQ1Xpa34EmiofCKb7tanA9bm9R8Xwf4PAtVoldHLAwmB7f0rlalvKYGmrXRNIY4NhmhdYpTZWF_L4DAgBfEKYzmGc=\n",
      "Out <zstd> B64(136):KLUv_SBg3QIAAsYVGpC3DbwFHqH23P24KeRY_t6OkM4g-we7u2UChcUatVYKgi1gYemt85bjZH1CTTuBeT4WV_944PCKzKXGYJut-1iuxTlJPTJSEmkIkJSop2Hwq7ATaccBAA==\n",
      "Out <zstd> Repeat(44):KLUv_SCVtQAAeFNUQUNLIE9WRVJGTE9XIAEAA6FmHQ==\n",
      "Out <Brotli> 100x(6296)\n"
     ]
    }
   ],
   "source": [
    "import string\n",
    "import random\n",
    "inStrCount = 72\n",
    "inStr = ''.join(random.choices(string.ascii_uppercase + string.digits, k=inStrCount))\n",
    "lenInStr = len(inStr)\n",
    "print(\"InStr(\" + str(len(inStr)) + \"):\" + inStr)\n",
    "\n",
    "repeatStr = 'STACK OVERFLOW STACK OVERFLOW STACK OVERFLOW STACK OVERFLOW STACK OVERFLOW STACK OVERFLOW STACK OVERFLOW STACK OVERFLOW STACK OVERFLOW STACK OVERFLOW'\n",
    "print(\"RepeatStr(\" + str(len(repeatStr)) + \"):\" + repeatStr)\n",
    "\n",
    "\n",
    "inStr100x = ''.join(random.choices(string.ascii_uppercase + string.digits, k=inStrCount*100))\n",
    "lenInStr100x = len(inStr100x)\n",
    "print(\"InStr 100x(\" + str(len(inStr100x)) + \")\")\n",
    "\n",
    "compressResultLists = []\n",
    "\n",
    "#Hex\n",
    "import binascii\n",
    "hexData = binascii.b2a_hex(inStr.encode(\"ascii\"))\n",
    "hexStr = hexData.decode(\"ascii\")\n",
    "print(\"InToHex(\" + str(len(hexStr)) + \"):\" + hexStr)\n",
    "\n",
    "#Base64 encode\n",
    "import base64\n",
    "def strBase64encodeToStr(oriStr):\n",
    "    encodedBytes = base64.urlsafe_b64encode(oriStr.encode(\"utf-8\"))\n",
    "    encodedStr = str(encodedBytes, \"utf-8\")\n",
    "    return encodedStr\n",
    "\n",
    "def bytesBase64encodeToStr(oriBytes):\n",
    "    encodedBytes = base64.urlsafe_b64encode(oriBytes)\n",
    "    encodedStr = str(encodedBytes, \"utf-8\")\n",
    "    return encodedStr\n",
    "\n",
    "b64Str = strBase64encodeToStr(inStr)\n",
    "b64Data = b64Str.encode(\"ascii\")\n",
    "print(\"InToBase64(\" + str(len(b64Str)) + \"):\" + b64Str)\n",
    "\n",
    "#bytesToStr\n",
    "def bytesToStr(oriData):\n",
    "    return bytesBase64encodeToStr(oriData)\n",
    "    #return \"\".join( chr(x) for x in bytearray(oriData) )\n",
    "\n",
    "#Brotli\n",
    "print(\"\\n=== Brotli(Google) ===\")\n",
    "!pip install brotli\n",
    "import brotli\n",
    "\n",
    "def bytesBrotliToStr(oriData):\n",
    "    compressed = brotli.compress(oriData, quality=11)\n",
    "    result = bytesToStr(compressed)\n",
    "    return result\n",
    "\n",
    "\n",
    "outStrOri = bytesBrotliToStr(inStr.encode(\"utf-8\"))\n",
    "lenStrOri =  len(outStrOri)\n",
    "print(\"Out <Brotli> Ori(\" + str(lenStrOri) + \"):\" + outStrOri)\n",
    "\n",
    "outStrHex = bytesBrotliToStr(hexData)\n",
    "lenStrHex =  len(outStrHex)\n",
    "print(\"Out <Brotli> Hex(\" + str(lenStrHex) + \"):\" + outStrHex)\n",
    "\n",
    "outStrBase64 = bytesBrotliToStr(b64Data)\n",
    "lenStrBase64 =  len(outStrBase64)\n",
    "print(\"Out <Brotli> B64(\" + str(lenStrBase64) + \"):\" + outStrBase64)\n",
    "\n",
    "outStrRepeat = bytesBrotliToStr(repeatStr.encode(\"utf-8\"))\n",
    "lenStrRepeat =  len(outStrRepeat)\n",
    "print(\"Out <Brotli> Repeat(\" + str(lenStrRepeat) + \"):\" + outStrRepeat)\n",
    "\n",
    "outStr100x = bytesBrotliToStr(inStr100x.encode(\"utf-8\"))\n",
    "lenStr100x =  len(outStr100x)\n",
    "print(\"Out <Brotli> 100x(\" + str(lenStr100x) + \")\")\n",
    "\n",
    "rateStr = lenStrOri / lenInStr\n",
    "rateHex = lenStrHex / lenInStr\n",
    "rateBase64 = lenStrBase64 / lenInStr\n",
    "rateRepeat = lenStrRepeat / lenInStr\n",
    "rateStr100x = lenStr100x / lenInStr100x\n",
    "\n",
    "compressResultLists.append(['BROTLI', lenInStr, lenStrOri, rateStr, lenStrHex, rateHex, lenStrBase64, rateBase64, lenStrRepeat, rateRepeat, lenStr100x, rateStr100x])\n",
    "\n",
    "\n",
    "#bzip2\n",
    "print(\"\\n=== bzip2 ===\")\n",
    "#!pip install bz2\n",
    "import bz2\n",
    "\n",
    "def bytesBzip2ToStr(oriData):\n",
    "    compressed = bz2.compress(oriData)\n",
    "    result = bytesToStr(compressed)\n",
    "    return result\n",
    "\n",
    "\n",
    "outStrOri = bytesBzip2ToStr(inStr.encode(\"utf-8\"))\n",
    "lenStrOri =  len(outStrOri)\n",
    "print(\"Out <bzip2> Ori(\" + str(lenStrOri) + \"):\" + outStrOri)\n",
    "\n",
    "outStrHex = bytesBzip2ToStr(hexData)\n",
    "lenStrHex =  len(outStrHex)\n",
    "print(\"Out <bzip2> Hex(\" + str(lenStrHex) + \"):\" + outStrHex)\n",
    "\n",
    "outStrBase64 = bytesBzip2ToStr(b64Data)\n",
    "lenStrBase64 =  len(outStrBase64)\n",
    "print(\"Out <bzip2> B64(\" + str(lenStrBase64) + \"):\" + outStrBase64)\n",
    "\n",
    "outStrRepeat = bytesBzip2ToStr(repeatStr.encode(\"utf-8\"))\n",
    "lenStrRepeat =  len(outStrRepeat)\n",
    "print(\"Out <bzip2> Repeat(\" + str(lenStrRepeat) + \"):\" + outStrRepeat)\n",
    "\n",
    "outStr100x = bytesBzip2ToStr(inStr100x.encode(\"utf-8\"))\n",
    "lenStr100x =  len(outStr100x)\n",
    "print(\"Out <Brotli> 100x(\" + str(lenStr100x) + \")\")\n",
    "\n",
    "rateStr = lenStrOri / lenInStr\n",
    "rateHex = lenStrHex / lenInStr\n",
    "rateBase64 = lenStrBase64 / lenInStr\n",
    "rateRepeat = lenStrRepeat / lenInStr\n",
    "rateStr100x = lenStr100x / lenInStr100x\n",
    "\n",
    "compressResultLists.append(['BZIP2', lenInStr, lenStrOri, rateStr, lenStrHex, rateHex, lenStrBase64, rateBase64, lenStrRepeat, rateRepeat, lenStr100x, rateStr100x])\n",
    "\n",
    "\n",
    "#lzma\n",
    "print(\"\\n=== lzma(7z) ===\")\n",
    "#!pip install lzma\n",
    "import lzma\n",
    "\n",
    "def bytesLzmaToStr(oriData):\n",
    "    compressed = lzma.compress(oriData)\n",
    "    result = bytesToStr(compressed)\n",
    "    return result\n",
    "\n",
    "\n",
    "outStrOri = bytesLzmaToStr(inStr.encode(\"utf-8\"))\n",
    "lenStrOri =  len(outStrOri)\n",
    "print(\"Out <lzma> Ori(\" + str(lenStrOri) + \"):\" + outStrOri)\n",
    "\n",
    "outStrHex = bytesLzmaToStr(hexData)\n",
    "lenStrHex =  len(outStrHex)\n",
    "print(\"Out <lzma> Hex(\" + str(lenStrHex) + \"):\" + outStrHex)\n",
    "\n",
    "outStrBase64 = bytesLzmaToStr(b64Data)\n",
    "lenStrBase64 =  len(outStrBase64)\n",
    "print(\"Out <lzma> B64(\" + str(lenStrBase64) + \"):\" + outStrBase64)\n",
    "\n",
    "outStrRepeat = bytesLzmaToStr(repeatStr.encode(\"utf-8\"))\n",
    "lenStrRepeat =  len(outStrRepeat)\n",
    "print(\"Out <lzma> Repeat(\" + str(lenStrRepeat) + \"):\" + outStrRepeat)\n",
    "\n",
    "outStr100x = bytesLzmaToStr(inStr100x.encode(\"utf-8\"))\n",
    "lenStr100x =  len(outStr100x)\n",
    "print(\"Out <Brotli> 100x(\" + str(lenStr100x) + \")\")\n",
    "\n",
    "rateStr = lenStrOri / lenInStr\n",
    "rateHex = lenStrHex / lenInStr\n",
    "rateBase64 = lenStrBase64 / lenInStr\n",
    "rateRepeat = lenStrRepeat / lenInStr\n",
    "rateStr100x = lenStr100x / lenInStr100x\n",
    "\n",
    "compressResultLists.append(['LZMA', lenInStr, lenStrOri, rateStr, lenStrHex, rateHex, lenStrBase64, rateBase64, lenStrRepeat, rateRepeat, lenStr100x, rateStr100x])\n",
    "\n",
    "\n",
    "#zstd\n",
    "print(\"\\n=== zstd(Facebook)===\")\n",
    "!pip install zstandard\n",
    "import zstandard\n",
    "      \n",
    "def bytesZstdToStr(oriData):\n",
    "    zstd = zstandard.ZstdCompressor()\n",
    "    compressed = zstd.compress(oriData)\n",
    "    result = bytesToStr(compressed)\n",
    "    return result\n",
    "      \n",
    "      \n",
    "outStrOri = bytesZstdToStr(inStr.encode(\"utf-8\"))\n",
    "lenStrOri =  len(outStrOri)\n",
    "print(\"Out <zstd> Ori(\" + str(lenStrOri) + \"):\" + outStrOri)\n",
    "\n",
    "outStrHex = bytesZstdToStr(hexData)\n",
    "lenStrHex =  len(outStrHex)\n",
    "print(\"Out <zstd> Hex(\" + str(lenStrHex) + \"):\" + outStrHex)\n",
    "\n",
    "outStrBase64 = bytesZstdToStr(b64Data)\n",
    "lenStrBase64 =  len(outStrBase64)\n",
    "print(\"Out <zstd> B64(\" + str(lenStrBase64) + \"):\" + outStrBase64)\n",
    "\n",
    "outStrRepeat = bytesZstdToStr(repeatStr.encode(\"utf-8\"))\n",
    "lenStrRepeat =  len(outStrRepeat)\n",
    "print(\"Out <zstd> Repeat(\" + str(lenStrRepeat) + \"):\" + outStrRepeat)\n",
    "\n",
    "outStr100x = bytesZstdToStr(inStr100x.encode(\"utf-8\"))\n",
    "lenStr100x =  len(outStr100x)\n",
    "print(\"Out <Brotli> 100x(\" + str(lenStr100x) + \")\")\n",
    "\n",
    "rateStr = lenStrOri / lenInStr\n",
    "rateHex = lenStrHex / lenInStr\n",
    "rateBase64 = lenStrBase64 / lenInStr\n",
    "rateRepeat = lenStrRepeat / lenInStr\n",
    "rateStr100x = lenStr100x / lenInStr100x\n",
    "\n",
    "compressResultLists.append(['ZSTD', lenInStr, lenStrOri, rateStr, lenStrHex, rateHex, lenStrBase64, rateBase64, lenStrRepeat, rateRepeat, lenStr100x, rateStr100x])\n"
   ]
  },
  {
   "cell_type": "markdown",
   "metadata": {},
   "source": [
    "## 比較壓縮率"
   ]
  },
  {
   "cell_type": "code",
   "execution_count": 32,
   "metadata": {},
   "outputs": [
    {
     "name": "stdout",
     "output_type": "stream",
     "text": [
      "        Method Origin C-Str              C-StrR C-Hex              C-HexR  \\\n",
      "BROTLI  BROTLI     72    84  1.1666666666666667   108                 1.5   \n",
      "BZIP2    BZIP2     72   136  1.8888888888888888   152   2.111111111111111   \n",
      "LZMA      LZMA     72   172   2.388888888888889   236  3.2777777777777777   \n",
      "ZSTD      ZSTD     72   108                 1.5   128  1.7777777777777777   \n",
      "\n",
      "       C-Base64           C-Base64R C-Repeat           C-RepeatR C-Str100x  \\\n",
      "BROTLI      132  1.8333333333333333       36                 0.5      6264   \n",
      "BZIP2       164  2.2777777777777777       88  1.2222222222222223      6384   \n",
      "LZMA        204  2.8333333333333335      120  1.6666666666666667      6568   \n",
      "ZSTD        136  1.8888888888888888       44  0.6111111111111112      6296   \n",
      "\n",
      "                C-Str100xR  \n",
      "BROTLI                0.87  \n",
      "BZIP2   0.8866666666666667  \n",
      "LZMA    0.9122222222222223  \n",
      "ZSTD    0.8744444444444445  \n",
      "[['1.1666666666666667', '1.5', '1.8333333333333333', '0.5', '0.87'], ['1.8888888888888888', '2.111111111111111', '2.2777777777777777', '1.2222222222222223', '0.8866666666666667'], ['2.388888888888889', '3.2777777777777777', '2.8333333333333335', '1.6666666666666667', '0.9122222222222223'], ['1.5', '1.7777777777777777', '1.8888888888888888', '0.6111111111111112', '0.8744444444444445']]\n",
      "Requirement already satisfied: plotly in /anaconda3/lib/python3.7/site-packages (4.0.0)\n",
      "Requirement already satisfied: retrying>=1.3.3 in /anaconda3/lib/python3.7/site-packages (from plotly) (1.3.3)\n",
      "Requirement already satisfied: six in /anaconda3/lib/python3.7/site-packages (from plotly) (1.12.0)\n"
     ]
    },
    {
     "data": {
      "application/vnd.plotly.v1+json": {
       "config": {
        "plotlyServerURL": "https://plot.ly"
       },
       "data": [
        {
         "name": "BROTLI",
         "type": "bar",
         "x": [
          "原字串",
          "轉Hex",
          "轉Base64",
          "重複字串",
          "100x長度"
         ],
         "xaxis": "x",
         "y": [
          "1.1666666666666667",
          "1.5",
          "1.8333333333333333",
          "0.5",
          "0.87"
         ],
         "yaxis": "y"
        },
        {
         "name": "BZIP2",
         "type": "bar",
         "x": [
          "原字串",
          "轉Hex",
          "轉Base64",
          "重複字串",
          "100x長度"
         ],
         "xaxis": "x",
         "y": [
          "1.8888888888888888",
          "2.111111111111111",
          "2.2777777777777777",
          "1.2222222222222223",
          "0.8866666666666667"
         ],
         "yaxis": "y"
        },
        {
         "name": "LZMA",
         "type": "bar",
         "x": [
          "原字串",
          "轉Hex",
          "轉Base64",
          "重複字串",
          "100x長度"
         ],
         "xaxis": "x",
         "y": [
          "2.388888888888889",
          "3.2777777777777777",
          "2.8333333333333335",
          "1.6666666666666667",
          "0.9122222222222223"
         ],
         "yaxis": "y"
        },
        {
         "name": "ZSTD",
         "type": "bar",
         "x": [
          "原字串",
          "轉Hex",
          "轉Base64",
          "重複字串",
          "100x長度"
         ],
         "xaxis": "x",
         "y": [
          "1.5",
          "1.7777777777777777",
          "1.8888888888888888",
          "0.6111111111111112",
          "0.8744444444444445"
         ],
         "yaxis": "y"
        }
       ],
       "layout": {
        "height": 500,
        "showlegend": true,
        "template": {
         "data": {
          "bar": [
           {
            "error_x": {
             "color": "#2a3f5f"
            },
            "error_y": {
             "color": "#2a3f5f"
            },
            "marker": {
             "line": {
              "color": "#E5ECF6",
              "width": 0.5
             }
            },
            "type": "bar"
           }
          ],
          "barpolar": [
           {
            "marker": {
             "line": {
              "color": "#E5ECF6",
              "width": 0.5
             }
            },
            "type": "barpolar"
           }
          ],
          "carpet": [
           {
            "aaxis": {
             "endlinecolor": "#2a3f5f",
             "gridcolor": "white",
             "linecolor": "white",
             "minorgridcolor": "white",
             "startlinecolor": "#2a3f5f"
            },
            "baxis": {
             "endlinecolor": "#2a3f5f",
             "gridcolor": "white",
             "linecolor": "white",
             "minorgridcolor": "white",
             "startlinecolor": "#2a3f5f"
            },
            "type": "carpet"
           }
          ],
          "choropleth": [
           {
            "colorbar": {
             "outlinewidth": 0,
             "ticks": ""
            },
            "type": "choropleth"
           }
          ],
          "contour": [
           {
            "colorbar": {
             "outlinewidth": 0,
             "ticks": ""
            },
            "colorscale": [
             [
              0,
              "#0d0887"
             ],
             [
              0.1111111111111111,
              "#46039f"
             ],
             [
              0.2222222222222222,
              "#7201a8"
             ],
             [
              0.3333333333333333,
              "#9c179e"
             ],
             [
              0.4444444444444444,
              "#bd3786"
             ],
             [
              0.5555555555555556,
              "#d8576b"
             ],
             [
              0.6666666666666666,
              "#ed7953"
             ],
             [
              0.7777777777777778,
              "#fb9f3a"
             ],
             [
              0.8888888888888888,
              "#fdca26"
             ],
             [
              1,
              "#f0f921"
             ]
            ],
            "type": "contour"
           }
          ],
          "contourcarpet": [
           {
            "colorbar": {
             "outlinewidth": 0,
             "ticks": ""
            },
            "type": "contourcarpet"
           }
          ],
          "heatmap": [
           {
            "colorbar": {
             "outlinewidth": 0,
             "ticks": ""
            },
            "colorscale": [
             [
              0,
              "#0d0887"
             ],
             [
              0.1111111111111111,
              "#46039f"
             ],
             [
              0.2222222222222222,
              "#7201a8"
             ],
             [
              0.3333333333333333,
              "#9c179e"
             ],
             [
              0.4444444444444444,
              "#bd3786"
             ],
             [
              0.5555555555555556,
              "#d8576b"
             ],
             [
              0.6666666666666666,
              "#ed7953"
             ],
             [
              0.7777777777777778,
              "#fb9f3a"
             ],
             [
              0.8888888888888888,
              "#fdca26"
             ],
             [
              1,
              "#f0f921"
             ]
            ],
            "type": "heatmap"
           }
          ],
          "heatmapgl": [
           {
            "colorbar": {
             "outlinewidth": 0,
             "ticks": ""
            },
            "colorscale": [
             [
              0,
              "#0d0887"
             ],
             [
              0.1111111111111111,
              "#46039f"
             ],
             [
              0.2222222222222222,
              "#7201a8"
             ],
             [
              0.3333333333333333,
              "#9c179e"
             ],
             [
              0.4444444444444444,
              "#bd3786"
             ],
             [
              0.5555555555555556,
              "#d8576b"
             ],
             [
              0.6666666666666666,
              "#ed7953"
             ],
             [
              0.7777777777777778,
              "#fb9f3a"
             ],
             [
              0.8888888888888888,
              "#fdca26"
             ],
             [
              1,
              "#f0f921"
             ]
            ],
            "type": "heatmapgl"
           }
          ],
          "histogram": [
           {
            "marker": {
             "colorbar": {
              "outlinewidth": 0,
              "ticks": ""
             }
            },
            "type": "histogram"
           }
          ],
          "histogram2d": [
           {
            "colorbar": {
             "outlinewidth": 0,
             "ticks": ""
            },
            "colorscale": [
             [
              0,
              "#0d0887"
             ],
             [
              0.1111111111111111,
              "#46039f"
             ],
             [
              0.2222222222222222,
              "#7201a8"
             ],
             [
              0.3333333333333333,
              "#9c179e"
             ],
             [
              0.4444444444444444,
              "#bd3786"
             ],
             [
              0.5555555555555556,
              "#d8576b"
             ],
             [
              0.6666666666666666,
              "#ed7953"
             ],
             [
              0.7777777777777778,
              "#fb9f3a"
             ],
             [
              0.8888888888888888,
              "#fdca26"
             ],
             [
              1,
              "#f0f921"
             ]
            ],
            "type": "histogram2d"
           }
          ],
          "histogram2dcontour": [
           {
            "colorbar": {
             "outlinewidth": 0,
             "ticks": ""
            },
            "colorscale": [
             [
              0,
              "#0d0887"
             ],
             [
              0.1111111111111111,
              "#46039f"
             ],
             [
              0.2222222222222222,
              "#7201a8"
             ],
             [
              0.3333333333333333,
              "#9c179e"
             ],
             [
              0.4444444444444444,
              "#bd3786"
             ],
             [
              0.5555555555555556,
              "#d8576b"
             ],
             [
              0.6666666666666666,
              "#ed7953"
             ],
             [
              0.7777777777777778,
              "#fb9f3a"
             ],
             [
              0.8888888888888888,
              "#fdca26"
             ],
             [
              1,
              "#f0f921"
             ]
            ],
            "type": "histogram2dcontour"
           }
          ],
          "mesh3d": [
           {
            "colorbar": {
             "outlinewidth": 0,
             "ticks": ""
            },
            "type": "mesh3d"
           }
          ],
          "parcoords": [
           {
            "line": {
             "colorbar": {
              "outlinewidth": 0,
              "ticks": ""
             }
            },
            "type": "parcoords"
           }
          ],
          "scatter": [
           {
            "marker": {
             "colorbar": {
              "outlinewidth": 0,
              "ticks": ""
             }
            },
            "type": "scatter"
           }
          ],
          "scatter3d": [
           {
            "line": {
             "colorbar": {
              "outlinewidth": 0,
              "ticks": ""
             }
            },
            "marker": {
             "colorbar": {
              "outlinewidth": 0,
              "ticks": ""
             }
            },
            "type": "scatter3d"
           }
          ],
          "scattercarpet": [
           {
            "marker": {
             "colorbar": {
              "outlinewidth": 0,
              "ticks": ""
             }
            },
            "type": "scattercarpet"
           }
          ],
          "scattergeo": [
           {
            "marker": {
             "colorbar": {
              "outlinewidth": 0,
              "ticks": ""
             }
            },
            "type": "scattergeo"
           }
          ],
          "scattergl": [
           {
            "marker": {
             "colorbar": {
              "outlinewidth": 0,
              "ticks": ""
             }
            },
            "type": "scattergl"
           }
          ],
          "scattermapbox": [
           {
            "marker": {
             "colorbar": {
              "outlinewidth": 0,
              "ticks": ""
             }
            },
            "type": "scattermapbox"
           }
          ],
          "scatterpolar": [
           {
            "marker": {
             "colorbar": {
              "outlinewidth": 0,
              "ticks": ""
             }
            },
            "type": "scatterpolar"
           }
          ],
          "scatterpolargl": [
           {
            "marker": {
             "colorbar": {
              "outlinewidth": 0,
              "ticks": ""
             }
            },
            "type": "scatterpolargl"
           }
          ],
          "scatterternary": [
           {
            "marker": {
             "colorbar": {
              "outlinewidth": 0,
              "ticks": ""
             }
            },
            "type": "scatterternary"
           }
          ],
          "surface": [
           {
            "colorbar": {
             "outlinewidth": 0,
             "ticks": ""
            },
            "colorscale": [
             [
              0,
              "#0d0887"
             ],
             [
              0.1111111111111111,
              "#46039f"
             ],
             [
              0.2222222222222222,
              "#7201a8"
             ],
             [
              0.3333333333333333,
              "#9c179e"
             ],
             [
              0.4444444444444444,
              "#bd3786"
             ],
             [
              0.5555555555555556,
              "#d8576b"
             ],
             [
              0.6666666666666666,
              "#ed7953"
             ],
             [
              0.7777777777777778,
              "#fb9f3a"
             ],
             [
              0.8888888888888888,
              "#fdca26"
             ],
             [
              1,
              "#f0f921"
             ]
            ],
            "type": "surface"
           }
          ],
          "table": [
           {
            "cells": {
             "fill": {
              "color": "#EBF0F8"
             },
             "line": {
              "color": "white"
             }
            },
            "header": {
             "fill": {
              "color": "#C8D4E3"
             },
             "line": {
              "color": "white"
             }
            },
            "type": "table"
           }
          ]
         },
         "layout": {
          "annotationdefaults": {
           "arrowcolor": "#2a3f5f",
           "arrowhead": 0,
           "arrowwidth": 1
          },
          "colorscale": {
           "diverging": [
            [
             0,
             "#8e0152"
            ],
            [
             0.1,
             "#c51b7d"
            ],
            [
             0.2,
             "#de77ae"
            ],
            [
             0.3,
             "#f1b6da"
            ],
            [
             0.4,
             "#fde0ef"
            ],
            [
             0.5,
             "#f7f7f7"
            ],
            [
             0.6,
             "#e6f5d0"
            ],
            [
             0.7,
             "#b8e186"
            ],
            [
             0.8,
             "#7fbc41"
            ],
            [
             0.9,
             "#4d9221"
            ],
            [
             1,
             "#276419"
            ]
           ],
           "sequential": [
            [
             0,
             "#0d0887"
            ],
            [
             0.1111111111111111,
             "#46039f"
            ],
            [
             0.2222222222222222,
             "#7201a8"
            ],
            [
             0.3333333333333333,
             "#9c179e"
            ],
            [
             0.4444444444444444,
             "#bd3786"
            ],
            [
             0.5555555555555556,
             "#d8576b"
            ],
            [
             0.6666666666666666,
             "#ed7953"
            ],
            [
             0.7777777777777778,
             "#fb9f3a"
            ],
            [
             0.8888888888888888,
             "#fdca26"
            ],
            [
             1,
             "#f0f921"
            ]
           ],
           "sequentialminus": [
            [
             0,
             "#0d0887"
            ],
            [
             0.1111111111111111,
             "#46039f"
            ],
            [
             0.2222222222222222,
             "#7201a8"
            ],
            [
             0.3333333333333333,
             "#9c179e"
            ],
            [
             0.4444444444444444,
             "#bd3786"
            ],
            [
             0.5555555555555556,
             "#d8576b"
            ],
            [
             0.6666666666666666,
             "#ed7953"
            ],
            [
             0.7777777777777778,
             "#fb9f3a"
            ],
            [
             0.8888888888888888,
             "#fdca26"
            ],
            [
             1,
             "#f0f921"
            ]
           ]
          },
          "colorway": [
           "#636efa",
           "#EF553B",
           "#00cc96",
           "#ab63fa",
           "#FFA15A",
           "#19d3f3",
           "#FF6692",
           "#B6E880",
           "#FF97FF",
           "#FECB52"
          ],
          "font": {
           "color": "#2a3f5f"
          },
          "geo": {
           "bgcolor": "white",
           "lakecolor": "white",
           "landcolor": "#E5ECF6",
           "showlakes": true,
           "showland": true,
           "subunitcolor": "white"
          },
          "hoverlabel": {
           "align": "left"
          },
          "hovermode": "closest",
          "mapbox": {
           "style": "light"
          },
          "paper_bgcolor": "white",
          "plot_bgcolor": "#E5ECF6",
          "polar": {
           "angularaxis": {
            "gridcolor": "white",
            "linecolor": "white",
            "ticks": ""
           },
           "bgcolor": "#E5ECF6",
           "radialaxis": {
            "gridcolor": "white",
            "linecolor": "white",
            "ticks": ""
           }
          },
          "scene": {
           "xaxis": {
            "backgroundcolor": "#E5ECF6",
            "gridcolor": "white",
            "gridwidth": 2,
            "linecolor": "white",
            "showbackground": true,
            "ticks": "",
            "zerolinecolor": "white"
           },
           "yaxis": {
            "backgroundcolor": "#E5ECF6",
            "gridcolor": "white",
            "gridwidth": 2,
            "linecolor": "white",
            "showbackground": true,
            "ticks": "",
            "zerolinecolor": "white"
           },
           "zaxis": {
            "backgroundcolor": "#E5ECF6",
            "gridcolor": "white",
            "gridwidth": 2,
            "linecolor": "white",
            "showbackground": true,
            "ticks": "",
            "zerolinecolor": "white"
           }
          },
          "shapedefaults": {
           "line": {
            "color": "#2a3f5f"
           }
          },
          "ternary": {
           "aaxis": {
            "gridcolor": "white",
            "linecolor": "white",
            "ticks": ""
           },
           "baxis": {
            "gridcolor": "white",
            "linecolor": "white",
            "ticks": ""
           },
           "bgcolor": "#E5ECF6",
           "caxis": {
            "gridcolor": "white",
            "linecolor": "white",
            "ticks": ""
           }
          },
          "title": {
           "x": 0.05
          },
          "xaxis": {
           "automargin": true,
           "gridcolor": "white",
           "linecolor": "white",
           "ticks": "",
           "zerolinecolor": "white",
           "zerolinewidth": 2
          },
          "yaxis": {
           "automargin": true,
           "gridcolor": "white",
           "linecolor": "white",
           "ticks": "",
           "zerolinecolor": "white",
           "zerolinewidth": 2
          }
         }
        },
        "title": {
         "text": "72字元短文字壓縮率比較(越低越佳)"
        },
        "width": 1000,
        "xaxis": {
         "anchor": "y",
         "autorange": true,
         "domain": [
          0,
          1
         ],
         "range": [
          -0.5,
          4.5
         ],
         "type": "category"
        },
        "yaxis": {
         "anchor": "x",
         "autorange": true,
         "domain": [
          0,
          1
         ],
         "range": [
          0,
          3.4502923976608186
         ],
         "type": "linear"
        }
       }
      },
      "image/png": "[encoded data removed]",
      "text/html": [
       "<div>\n",
       "        \n",
       "        \n",
       "            <div id=\"1a71a809-559f-4833-99ae-c51fea3e597e\" class=\"plotly-graph-div\" style=\"height:500px; width:1000px;\"></div>\n",
       "            <script type=\"text/javascript\">\n",
       "                require([\"plotly\"], function(Plotly) {\n",
       "                    window.PLOTLYENV=window.PLOTLYENV || {};\n",
       "                    \n",
       "                if (document.getElementById(\"1a71a809-559f-4833-99ae-c51fea3e597e\")) {\n",
       "                    Plotly.newPlot(\n",
       "                        '1a71a809-559f-4833-99ae-c51fea3e597e',\n",
       "                        [{\"name\": \"BROTLI\", \"type\": \"bar\", \"x\": [\"\\u539f\\u5b57\\u4e32\", \"\\u8f49Hex\", \"\\u8f49Base64\", \"\\u91cd\\u8907\\u5b57\\u4e32\", \"100x\\u9577\\u5ea6\"], \"xaxis\": \"x\", \"y\": [\"1.1666666666666667\", \"1.5\", \"1.8333333333333333\", \"0.5\", \"0.87\"], \"yaxis\": \"y\"}, {\"name\": \"BZIP2\", \"type\": \"bar\", \"x\": [\"\\u539f\\u5b57\\u4e32\", \"\\u8f49Hex\", \"\\u8f49Base64\", \"\\u91cd\\u8907\\u5b57\\u4e32\", \"100x\\u9577\\u5ea6\"], \"xaxis\": \"x\", \"y\": [\"1.8888888888888888\", \"2.111111111111111\", \"2.2777777777777777\", \"1.2222222222222223\", \"0.8866666666666667\"], \"yaxis\": \"y\"}, {\"name\": \"LZMA\", \"type\": \"bar\", \"x\": [\"\\u539f\\u5b57\\u4e32\", \"\\u8f49Hex\", \"\\u8f49Base64\", \"\\u91cd\\u8907\\u5b57\\u4e32\", \"100x\\u9577\\u5ea6\"], \"xaxis\": \"x\", \"y\": [\"2.388888888888889\", \"3.2777777777777777\", \"2.8333333333333335\", \"1.6666666666666667\", \"0.9122222222222223\"], \"yaxis\": \"y\"}, {\"name\": \"ZSTD\", \"type\": \"bar\", \"x\": [\"\\u539f\\u5b57\\u4e32\", \"\\u8f49Hex\", \"\\u8f49Base64\", \"\\u91cd\\u8907\\u5b57\\u4e32\", \"100x\\u9577\\u5ea6\"], \"xaxis\": \"x\", \"y\": [\"1.5\", \"1.7777777777777777\", \"1.8888888888888888\", \"0.6111111111111112\", \"0.8744444444444445\"], \"yaxis\": \"y\"}],\n",
       "                        {\"height\": 500, \"showlegend\": true, \"template\": {\"data\": {\"bar\": [{\"error_x\": {\"color\": \"#2a3f5f\"}, \"error_y\": {\"color\": \"#2a3f5f\"}, \"marker\": {\"line\": {\"color\": \"#E5ECF6\", \"width\": 0.5}}, \"type\": \"bar\"}], \"barpolar\": [{\"marker\": {\"line\": {\"color\": \"#E5ECF6\", \"width\": 0.5}}, \"type\": \"barpolar\"}], \"carpet\": [{\"aaxis\": {\"endlinecolor\": \"#2a3f5f\", \"gridcolor\": \"white\", \"linecolor\": \"white\", \"minorgridcolor\": \"white\", \"startlinecolor\": \"#2a3f5f\"}, \"baxis\": {\"endlinecolor\": \"#2a3f5f\", \"gridcolor\": \"white\", \"linecolor\": \"white\", \"minorgridcolor\": \"white\", \"startlinecolor\": \"#2a3f5f\"}, \"type\": \"carpet\"}], \"choropleth\": [{\"colorbar\": {\"outlinewidth\": 0, \"ticks\": \"\"}, \"type\": \"choropleth\"}], \"contour\": [{\"colorbar\": {\"outlinewidth\": 0, \"ticks\": \"\"}, \"colorscale\": [[0.0, \"#0d0887\"], [0.1111111111111111, \"#46039f\"], [0.2222222222222222, \"#7201a8\"], [0.3333333333333333, \"#9c179e\"], [0.4444444444444444, \"#bd3786\"], [0.5555555555555556, \"#d8576b\"], [0.6666666666666666, \"#ed7953\"], [0.7777777777777778, \"#fb9f3a\"], [0.8888888888888888, \"#fdca26\"], [1.0, \"#f0f921\"]], \"type\": \"contour\"}], \"contourcarpet\": [{\"colorbar\": {\"outlinewidth\": 0, \"ticks\": \"\"}, \"type\": \"contourcarpet\"}], \"heatmap\": [{\"colorbar\": {\"outlinewidth\": 0, \"ticks\": \"\"}, \"colorscale\": [[0.0, \"#0d0887\"], [0.1111111111111111, \"#46039f\"], [0.2222222222222222, \"#7201a8\"], [0.3333333333333333, \"#9c179e\"], [0.4444444444444444, \"#bd3786\"], [0.5555555555555556, \"#d8576b\"], [0.6666666666666666, \"#ed7953\"], [0.7777777777777778, \"#fb9f3a\"], [0.8888888888888888, \"#fdca26\"], [1.0, \"#f0f921\"]], \"type\": \"heatmap\"}], \"heatmapgl\": [{\"colorbar\": {\"outlinewidth\": 0, \"ticks\": \"\"}, \"colorscale\": [[0.0, \"#0d0887\"], [0.1111111111111111, \"#46039f\"], [0.2222222222222222, \"#7201a8\"], [0.3333333333333333, \"#9c179e\"], [0.4444444444444444, \"#bd3786\"], [0.5555555555555556, \"#d8576b\"], [0.6666666666666666, \"#ed7953\"], [0.7777777777777778, \"#fb9f3a\"], [0.8888888888888888, \"#fdca26\"], [1.0, \"#f0f921\"]], \"type\": \"heatmapgl\"}], \"histogram\": [{\"marker\": {\"colorbar\": {\"outlinewidth\": 0, \"ticks\": \"\"}}, \"type\": \"histogram\"}], \"histogram2d\": [{\"colorbar\": {\"outlinewidth\": 0, \"ticks\": \"\"}, \"colorscale\": [[0.0, \"#0d0887\"], [0.1111111111111111, \"#46039f\"], [0.2222222222222222, \"#7201a8\"], [0.3333333333333333, \"#9c179e\"], [0.4444444444444444, \"#bd3786\"], [0.5555555555555556, \"#d8576b\"], [0.6666666666666666, \"#ed7953\"], [0.7777777777777778, \"#fb9f3a\"], [0.8888888888888888, \"#fdca26\"], [1.0, \"#f0f921\"]], \"type\": \"histogram2d\"}], \"histogram2dcontour\": [{\"colorbar\": {\"outlinewidth\": 0, \"ticks\": \"\"}, \"colorscale\": [[0.0, \"#0d0887\"], [0.1111111111111111, \"#46039f\"], [0.2222222222222222, \"#7201a8\"], [0.3333333333333333, \"#9c179e\"], [0.4444444444444444, \"#bd3786\"], [0.5555555555555556, \"#d8576b\"], [0.6666666666666666, \"#ed7953\"], [0.7777777777777778, \"#fb9f3a\"], [0.8888888888888888, \"#fdca26\"], [1.0, \"#f0f921\"]], \"type\": \"histogram2dcontour\"}], \"mesh3d\": [{\"colorbar\": {\"outlinewidth\": 0, \"ticks\": \"\"}, \"type\": \"mesh3d\"}], \"parcoords\": [{\"line\": {\"colorbar\": {\"outlinewidth\": 0, \"ticks\": \"\"}}, \"type\": \"parcoords\"}], \"scatter\": [{\"marker\": {\"colorbar\": {\"outlinewidth\": 0, \"ticks\": \"\"}}, \"type\": \"scatter\"}], \"scatter3d\": [{\"line\": {\"colorbar\": {\"outlinewidth\": 0, \"ticks\": \"\"}}, \"marker\": {\"colorbar\": {\"outlinewidth\": 0, \"ticks\": \"\"}}, \"type\": \"scatter3d\"}], \"scattercarpet\": [{\"marker\": {\"colorbar\": {\"outlinewidth\": 0, \"ticks\": \"\"}}, \"type\": \"scattercarpet\"}], \"scattergeo\": [{\"marker\": {\"colorbar\": {\"outlinewidth\": 0, \"ticks\": \"\"}}, \"type\": \"scattergeo\"}], \"scattergl\": [{\"marker\": {\"colorbar\": {\"outlinewidth\": 0, \"ticks\": \"\"}}, \"type\": \"scattergl\"}], \"scattermapbox\": [{\"marker\": {\"colorbar\": {\"outlinewidth\": 0, \"ticks\": \"\"}}, \"type\": \"scattermapbox\"}], \"scatterpolar\": [{\"marker\": {\"colorbar\": {\"outlinewidth\": 0, \"ticks\": \"\"}}, \"type\": \"scatterpolar\"}], \"scatterpolargl\": [{\"marker\": {\"colorbar\": {\"outlinewidth\": 0, \"ticks\": \"\"}}, \"type\": \"scatterpolargl\"}], \"scatterternary\": [{\"marker\": {\"colorbar\": {\"outlinewidth\": 0, \"ticks\": \"\"}}, \"type\": \"scatterternary\"}], \"surface\": [{\"colorbar\": {\"outlinewidth\": 0, \"ticks\": \"\"}, \"colorscale\": [[0.0, \"#0d0887\"], [0.1111111111111111, \"#46039f\"], [0.2222222222222222, \"#7201a8\"], [0.3333333333333333, \"#9c179e\"], [0.4444444444444444, \"#bd3786\"], [0.5555555555555556, \"#d8576b\"], [0.6666666666666666, \"#ed7953\"], [0.7777777777777778, \"#fb9f3a\"], [0.8888888888888888, \"#fdca26\"], [1.0, \"#f0f921\"]], \"type\": \"surface\"}], \"table\": [{\"cells\": {\"fill\": {\"color\": \"#EBF0F8\"}, \"line\": {\"color\": \"white\"}}, \"header\": {\"fill\": {\"color\": \"#C8D4E3\"}, \"line\": {\"color\": \"white\"}}, \"type\": \"table\"}]}, \"layout\": {\"annotationdefaults\": {\"arrowcolor\": \"#2a3f5f\", \"arrowhead\": 0, \"arrowwidth\": 1}, \"colorscale\": {\"diverging\": [[0, \"#8e0152\"], [0.1, \"#c51b7d\"], [0.2, \"#de77ae\"], [0.3, \"#f1b6da\"], [0.4, \"#fde0ef\"], [0.5, \"#f7f7f7\"], [0.6, \"#e6f5d0\"], [0.7, \"#b8e186\"], [0.8, \"#7fbc41\"], [0.9, \"#4d9221\"], [1, \"#276419\"]], \"sequential\": [[0.0, \"#0d0887\"], [0.1111111111111111, \"#46039f\"], [0.2222222222222222, \"#7201a8\"], [0.3333333333333333, \"#9c179e\"], [0.4444444444444444, \"#bd3786\"], [0.5555555555555556, \"#d8576b\"], [0.6666666666666666, \"#ed7953\"], [0.7777777777777778, \"#fb9f3a\"], [0.8888888888888888, \"#fdca26\"], [1.0, \"#f0f921\"]], \"sequentialminus\": [[0.0, \"#0d0887\"], [0.1111111111111111, \"#46039f\"], [0.2222222222222222, \"#7201a8\"], [0.3333333333333333, \"#9c179e\"], [0.4444444444444444, \"#bd3786\"], [0.5555555555555556, \"#d8576b\"], [0.6666666666666666, \"#ed7953\"], [0.7777777777777778, \"#fb9f3a\"], [0.8888888888888888, \"#fdca26\"], [1.0, \"#f0f921\"]]}, \"colorway\": [\"#636efa\", \"#EF553B\", \"#00cc96\", \"#ab63fa\", \"#FFA15A\", \"#19d3f3\", \"#FF6692\", \"#B6E880\", \"#FF97FF\", \"#FECB52\"], \"font\": {\"color\": \"#2a3f5f\"}, \"geo\": {\"bgcolor\": \"white\", \"lakecolor\": \"white\", \"landcolor\": \"#E5ECF6\", \"showlakes\": true, \"showland\": true, \"subunitcolor\": \"white\"}, \"hoverlabel\": {\"align\": \"left\"}, \"hovermode\": \"closest\", \"mapbox\": {\"style\": \"light\"}, \"paper_bgcolor\": \"white\", \"plot_bgcolor\": \"#E5ECF6\", \"polar\": {\"angularaxis\": {\"gridcolor\": \"white\", \"linecolor\": \"white\", \"ticks\": \"\"}, \"bgcolor\": \"#E5ECF6\", \"radialaxis\": {\"gridcolor\": \"white\", \"linecolor\": \"white\", \"ticks\": \"\"}}, \"scene\": {\"xaxis\": {\"backgroundcolor\": \"#E5ECF6\", \"gridcolor\": \"white\", \"gridwidth\": 2, \"linecolor\": \"white\", \"showbackground\": true, \"ticks\": \"\", \"zerolinecolor\": \"white\"}, \"yaxis\": {\"backgroundcolor\": \"#E5ECF6\", \"gridcolor\": \"white\", \"gridwidth\": 2, \"linecolor\": \"white\", \"showbackground\": true, \"ticks\": \"\", \"zerolinecolor\": \"white\"}, \"zaxis\": {\"backgroundcolor\": \"#E5ECF6\", \"gridcolor\": \"white\", \"gridwidth\": 2, \"linecolor\": \"white\", \"showbackground\": true, \"ticks\": \"\", \"zerolinecolor\": \"white\"}}, \"shapedefaults\": {\"line\": {\"color\": \"#2a3f5f\"}}, \"ternary\": {\"aaxis\": {\"gridcolor\": \"white\", \"linecolor\": \"white\", \"ticks\": \"\"}, \"baxis\": {\"gridcolor\": \"white\", \"linecolor\": \"white\", \"ticks\": \"\"}, \"bgcolor\": \"#E5ECF6\", \"caxis\": {\"gridcolor\": \"white\", \"linecolor\": \"white\", \"ticks\": \"\"}}, \"title\": {\"x\": 0.05}, \"xaxis\": {\"automargin\": true, \"gridcolor\": \"white\", \"linecolor\": \"white\", \"ticks\": \"\", \"zerolinecolor\": \"white\", \"zerolinewidth\": 2}, \"yaxis\": {\"automargin\": true, \"gridcolor\": \"white\", \"linecolor\": \"white\", \"ticks\": \"\", \"zerolinecolor\": \"white\", \"zerolinewidth\": 2}}}, \"title\": {\"text\": \"72\\u5b57\\u5143\\u77ed\\u6587\\u5b57\\u58d3\\u7e2e\\u7387\\u6bd4\\u8f03(\\u8d8a\\u4f4e\\u8d8a\\u4f73)\"}, \"width\": 1000, \"xaxis\": {\"anchor\": \"y\", \"domain\": [0.0, 1.0]}, \"yaxis\": {\"anchor\": \"x\", \"domain\": [0.0, 1.0]}},\n",
       "                        {\"responsive\": true}\n",
       "                    ).then(function(){\n",
       "                            \n",
       "var gd = document.getElementById('1a71a809-559f-4833-99ae-c51fea3e597e');\n",
       "var x = new MutationObserver(function (mutations, observer) {{\n",
       "        var display = window.getComputedStyle(gd).display;\n",
       "        if (!display || display === 'none') {{\n",
       "            console.log([gd, 'removed!']);\n",
       "            Plotly.purge(gd);\n",
       "            observer.disconnect();\n",
       "        }}\n",
       "}});\n",
       "\n",
       "// Listen for the removal of the full notebook cells\n",
       "var notebookContainer = gd.closest('#notebook-container');\n",
       "if (notebookContainer) {{\n",
       "    x.observe(notebookContainer, {childList: true});\n",
       "}}\n",
       "\n",
       "// Listen for the clearing of the current output cell\n",
       "var outputEl = gd.closest('.output');\n",
       "if (outputEl) {{\n",
       "    x.observe(outputEl, {childList: true});\n",
       "}}\n",
       "\n",
       "                        })\n",
       "                };\n",
       "                });\n",
       "            </script>\n",
       "        </div>"
      ]
     },
     "metadata": {},
     "output_type": "display_data"
    }
   ],
   "source": [
    "compressMethodList = ['BROTLI', 'BZIP2', 'LZMA', 'ZSTD']\n",
    "\n",
    "%matplotlib inline\n",
    "\n",
    "import numpy as np\n",
    "import pandas as pd\n",
    "import matplotlib.pyplot as plt\n",
    "\n",
    "compResNpArray = np.array(compressResultLists)\n",
    "resultDF = pd.DataFrame(compResNpArray, columns=['Method','Origin', 'C-Str', 'C-StrR', 'C-Hex', 'C-HexR', 'C-Base64', 'C-Base64R', 'C-Repeat', 'C-RepeatR', 'C-Str100x', 'C-Str100xR'], index=compressMethodList)\n",
    "print(resultDF)\n",
    "\n",
    "\n",
    "rateDF = resultDF[['C-StrR', 'C-HexR', 'C-Base64R', 'C-RepeatR', 'C-Str100xR']]\n",
    "rateLists = rateDF.values.tolist()\n",
    "print(rateLists)\n",
    "\n",
    "chartLabList = ['原字串', '轉Hex', '轉Base64', '重複字串', '100x長度']\n",
    "\n",
    "!pip install plotly\n",
    "import plotly.graph_objects as go\n",
    "from plotly.subplots import make_subplots\n",
    "\n",
    "# Make figure with subplots\n",
    "fig = make_subplots(rows=1, cols=1, specs=[[{\"type\": \"bar\"}]])\n",
    "\n",
    "for idx, val in enumerate(rateLists):\n",
    "    fig.add_trace(go.Bar(y=val ,x=chartLabList, name=compressMethodList[idx]), row=1, col=1)    \n",
    "\n",
    "\n",
    "# Show legend\n",
    "fig.update_layout(\n",
    "    showlegend=True,\n",
    "    title_text=\"72字元短文字壓縮率比較(越低越佳)\",\n",
    "    height=500,\n",
    "    width=1000,\n",
    ")\n",
    "\n",
    "fig.show()"
   ]
  },
  {
   "cell_type": "markdown",
   "metadata": {},
   "source": [
    "## 壓縮挑選法參考依據\n",
    "https://quixdb.github.io/squash-benchmark/unstable/"
   ]
  },
  {
   "cell_type": "code",
   "execution_count": 4,
   "metadata": {},
   "outputs": [
    {
     "name": "stdout",
     "output_type": "stream",
     "text": [
      "Requirement already satisfied: vega_datasets in /anaconda3/lib/python3.7/site-packages (0.7.0)\n",
      "Requirement already satisfied: pandas in /anaconda3/lib/python3.7/site-packages (from vega_datasets) (0.25.0)\n",
      "Requirement already satisfied: numpy>=1.13.3 in /anaconda3/lib/python3.7/site-packages (from pandas->vega_datasets) (1.16.2)\n",
      "Requirement already satisfied: python-dateutil>=2.6.1 in /anaconda3/lib/python3.7/site-packages (from pandas->vega_datasets) (2.8.0)\n",
      "Requirement already satisfied: pytz>=2017.2 in /anaconda3/lib/python3.7/site-packages (from pandas->vega_datasets) (2018.9)\n",
      "Requirement already satisfied: six>=1.5 in /anaconda3/lib/python3.7/site-packages (from python-dateutil>=2.6.1->pandas->vega_datasets) (1.12.0)\n",
      "Requirement already satisfied: altair in /anaconda3/lib/python3.7/site-packages (3.2.0)\n",
      "Requirement already satisfied: numpy in /anaconda3/lib/python3.7/site-packages (from altair) (1.16.2)\n",
      "Requirement already satisfied: six in /anaconda3/lib/python3.7/site-packages (from altair) (1.12.0)\n",
      "Requirement already satisfied: pandas in /anaconda3/lib/python3.7/site-packages (from altair) (0.25.0)\n",
      "Requirement already satisfied: entrypoints in /anaconda3/lib/python3.7/site-packages (from altair) (0.3)\n",
      "Requirement already satisfied: jinja2 in /anaconda3/lib/python3.7/site-packages (from altair) (2.10)\n",
      "Requirement already satisfied: jsonschema in /anaconda3/lib/python3.7/site-packages (from altair) (3.0.1)\n",
      "Requirement already satisfied: toolz in /anaconda3/lib/python3.7/site-packages (from altair) (0.9.0)\n",
      "Requirement already satisfied: python-dateutil>=2.6.1 in /anaconda3/lib/python3.7/site-packages (from pandas->altair) (2.8.0)\n",
      "Requirement already satisfied: pytz>=2017.2 in /anaconda3/lib/python3.7/site-packages (from pandas->altair) (2018.9)\n",
      "Requirement already satisfied: MarkupSafe>=0.23 in /anaconda3/lib/python3.7/site-packages (from jinja2->altair) (1.1.1)\n",
      "Requirement already satisfied: attrs>=17.4.0 in /anaconda3/lib/python3.7/site-packages (from jsonschema->altair) (19.1.0)\n",
      "Requirement already satisfied: pyrsistent>=0.14.0 in /anaconda3/lib/python3.7/site-packages (from jsonschema->altair) (0.14.11)\n",
      "Requirement already satisfied: setuptools in /anaconda3/lib/python3.7/site-packages (from jsonschema->altair) (40.8.0)\n"
     ]
    },
    {
     "data": {
      "application/vnd.vegalite.v3+json": {
       "$schema": "https://vega.github.io/schema/vega-lite/v3.4.0.json",
       "config": {
        "mark": {
         "tooltip": null
        },
        "view": {
         "height": 300,
         "width": 400
        }
       },
       "data": {
        "name": "data-093ece8c35bb2d41094cfb6138ec810b"
       },
       "datasets": {
        "data-093ece8c35bb2d41094cfb6138ec810b": [
         {
          "site": "University Farm",
          "variety": "Manchuria",
          "year": 1931,
          "yield": 27
         },
         {
          "site": "Waseca",
          "variety": "Manchuria",
          "year": 1931,
          "yield": 48.86667
         },
         {
          "site": "Morris",
          "variety": "Manchuria",
          "year": 1931,
          "yield": 27.43334
         },
         {
          "site": "Crookston",
          "variety": "Manchuria",
          "year": 1931,
          "yield": 39.93333
         },
         {
          "site": "Grand Rapids",
          "variety": "Manchuria",
          "year": 1931,
          "yield": 32.96667
         },
         {
          "site": "Duluth",
          "variety": "Manchuria",
          "year": 1931,
          "yield": 28.96667
         },
         {
          "site": "University Farm",
          "variety": "Glabron",
          "year": 1931,
          "yield": 43.06666
         },
         {
          "site": "Waseca",
          "variety": "Glabron",
          "year": 1931,
          "yield": 55.2
         },
         {
          "site": "Morris",
          "variety": "Glabron",
          "year": 1931,
          "yield": 28.76667
         },
         {
          "site": "Crookston",
          "variety": "Glabron",
          "year": 1931,
          "yield": 38.13333
         },
         {
          "site": "Grand Rapids",
          "variety": "Glabron",
          "year": 1931,
          "yield": 29.13333
         },
         {
          "site": "Duluth",
          "variety": "Glabron",
          "year": 1931,
          "yield": 29.66667
         },
         {
          "site": "University Farm",
          "variety": "Svansota",
          "year": 1931,
          "yield": 35.13333
         },
         {
          "site": "Waseca",
          "variety": "Svansota",
          "year": 1931,
          "yield": 47.33333
         },
         {
          "site": "Morris",
          "variety": "Svansota",
          "year": 1931,
          "yield": 25.76667
         },
         {
          "site": "Crookston",
          "variety": "Svansota",
          "year": 1931,
          "yield": 40.46667
         },
         {
          "site": "Grand Rapids",
          "variety": "Svansota",
          "year": 1931,
          "yield": 29.66667
         },
         {
          "site": "Duluth",
          "variety": "Svansota",
          "year": 1931,
          "yield": 25.7
         },
         {
          "site": "University Farm",
          "variety": "Velvet",
          "year": 1931,
          "yield": 39.9
         },
         {
          "site": "Waseca",
          "variety": "Velvet",
          "year": 1931,
          "yield": 50.23333
         },
         {
          "site": "Morris",
          "variety": "Velvet",
          "year": 1931,
          "yield": 26.13333
         },
         {
          "site": "Crookston",
          "variety": "Velvet",
          "year": 1931,
          "yield": 41.33333
         },
         {
          "site": "Grand Rapids",
          "variety": "Velvet",
          "year": 1931,
          "yield": 23.03333
         },
         {
          "site": "Duluth",
          "variety": "Velvet",
          "year": 1931,
          "yield": 26.3
         },
         {
          "site": "University Farm",
          "variety": "Trebi",
          "year": 1931,
          "yield": 36.56666
         },
         {
          "site": "Waseca",
          "variety": "Trebi",
          "year": 1931,
          "yield": 63.8333
         },
         {
          "site": "Morris",
          "variety": "Trebi",
          "year": 1931,
          "yield": 43.76667
         },
         {
          "site": "Crookston",
          "variety": "Trebi",
          "year": 1931,
          "yield": 46.93333
         },
         {
          "site": "Grand Rapids",
          "variety": "Trebi",
          "year": 1931,
          "yield": 29.76667
         },
         {
          "site": "Duluth",
          "variety": "Trebi",
          "year": 1931,
          "yield": 33.93333
         },
         {
          "site": "University Farm",
          "variety": "No. 457",
          "year": 1931,
          "yield": 43.26667
         },
         {
          "site": "Waseca",
          "variety": "No. 457",
          "year": 1931,
          "yield": 58.1
         },
         {
          "site": "Morris",
          "variety": "No. 457",
          "year": 1931,
          "yield": 28.7
         },
         {
          "site": "Crookston",
          "variety": "No. 457",
          "year": 1931,
          "yield": 45.66667
         },
         {
          "site": "Grand Rapids",
          "variety": "No. 457",
          "year": 1931,
          "yield": 32.16667
         },
         {
          "site": "Duluth",
          "variety": "No. 457",
          "year": 1931,
          "yield": 33.6
         },
         {
          "site": "University Farm",
          "variety": "No. 462",
          "year": 1931,
          "yield": 36.6
         },
         {
          "site": "Waseca",
          "variety": "No. 462",
          "year": 1931,
          "yield": 65.7667
         },
         {
          "site": "Morris",
          "variety": "No. 462",
          "year": 1931,
          "yield": 30.36667
         },
         {
          "site": "Crookston",
          "variety": "No. 462",
          "year": 1931,
          "yield": 48.56666
         },
         {
          "site": "Grand Rapids",
          "variety": "No. 462",
          "year": 1931,
          "yield": 24.93334
         },
         {
          "site": "Duluth",
          "variety": "No. 462",
          "year": 1931,
          "yield": 28.1
         },
         {
          "site": "University Farm",
          "variety": "Peatland",
          "year": 1931,
          "yield": 32.76667
         },
         {
          "site": "Waseca",
          "variety": "Peatland",
          "year": 1931,
          "yield": 48.56666
         },
         {
          "site": "Morris",
          "variety": "Peatland",
          "year": 1931,
          "yield": 29.86667
         },
         {
          "site": "Crookston",
          "variety": "Peatland",
          "year": 1931,
          "yield": 41.6
         },
         {
          "site": "Grand Rapids",
          "variety": "Peatland",
          "year": 1931,
          "yield": 34.7
         },
         {
          "site": "Duluth",
          "variety": "Peatland",
          "year": 1931,
          "yield": 32
         },
         {
          "site": "University Farm",
          "variety": "No. 475",
          "year": 1931,
          "yield": 24.66667
         },
         {
          "site": "Waseca",
          "variety": "No. 475",
          "year": 1931,
          "yield": 46.76667
         },
         {
          "site": "Morris",
          "variety": "No. 475",
          "year": 1931,
          "yield": 22.6
         },
         {
          "site": "Crookston",
          "variety": "No. 475",
          "year": 1931,
          "yield": 44.1
         },
         {
          "site": "Grand Rapids",
          "variety": "No. 475",
          "year": 1931,
          "yield": 19.7
         },
         {
          "site": "Duluth",
          "variety": "No. 475",
          "year": 1931,
          "yield": 33.06666
         },
         {
          "site": "University Farm",
          "variety": "Wisconsin No. 38",
          "year": 1931,
          "yield": 39.3
         },
         {
          "site": "Waseca",
          "variety": "Wisconsin No. 38",
          "year": 1931,
          "yield": 58.8
         },
         {
          "site": "Morris",
          "variety": "Wisconsin No. 38",
          "year": 1931,
          "yield": 29.46667
         },
         {
          "site": "Crookston",
          "variety": "Wisconsin No. 38",
          "year": 1931,
          "yield": 49.86667
         },
         {
          "site": "Grand Rapids",
          "variety": "Wisconsin No. 38",
          "year": 1931,
          "yield": 34.46667
         },
         {
          "site": "Duluth",
          "variety": "Wisconsin No. 38",
          "year": 1931,
          "yield": 31.6
         },
         {
          "site": "University Farm",
          "variety": "Manchuria",
          "year": 1932,
          "yield": 26.9
         },
         {
          "site": "Waseca",
          "variety": "Manchuria",
          "year": 1932,
          "yield": 33.46667
         },
         {
          "site": "Morris",
          "variety": "Manchuria",
          "year": 1932,
          "yield": 34.36666
         },
         {
          "site": "Crookston",
          "variety": "Manchuria",
          "year": 1932,
          "yield": 32.96667
         },
         {
          "site": "Grand Rapids",
          "variety": "Manchuria",
          "year": 1932,
          "yield": 22.13333
         },
         {
          "site": "Duluth",
          "variety": "Manchuria",
          "year": 1932,
          "yield": 22.56667
         },
         {
          "site": "University Farm",
          "variety": "Glabron",
          "year": 1932,
          "yield": 36.8
         },
         {
          "site": "Waseca",
          "variety": "Glabron",
          "year": 1932,
          "yield": 37.73333
         },
         {
          "site": "Morris",
          "variety": "Glabron",
          "year": 1932,
          "yield": 35.13333
         },
         {
          "site": "Crookston",
          "variety": "Glabron",
          "year": 1932,
          "yield": 26.16667
         },
         {
          "site": "Grand Rapids",
          "variety": "Glabron",
          "year": 1932,
          "yield": 14.43333
         },
         {
          "site": "Duluth",
          "variety": "Glabron",
          "year": 1932,
          "yield": 25.86667
         },
         {
          "site": "University Farm",
          "variety": "Svansota",
          "year": 1932,
          "yield": 27.43334
         },
         {
          "site": "Waseca",
          "variety": "Svansota",
          "year": 1932,
          "yield": 38.5
         },
         {
          "site": "Morris",
          "variety": "Svansota",
          "year": 1932,
          "yield": 35.03333
         },
         {
          "site": "Crookston",
          "variety": "Svansota",
          "year": 1932,
          "yield": 20.63333
         },
         {
          "site": "Grand Rapids",
          "variety": "Svansota",
          "year": 1932,
          "yield": 16.63333
         },
         {
          "site": "Duluth",
          "variety": "Svansota",
          "year": 1932,
          "yield": 22.23333
         },
         {
          "site": "University Farm",
          "variety": "Velvet",
          "year": 1932,
          "yield": 26.8
         },
         {
          "site": "Waseca",
          "variety": "Velvet",
          "year": 1932,
          "yield": 37.4
         },
         {
          "site": "Morris",
          "variety": "Velvet",
          "year": 1932,
          "yield": 38.83333
         },
         {
          "site": "Crookston",
          "variety": "Velvet",
          "year": 1932,
          "yield": 32.06666
         },
         {
          "site": "Grand Rapids",
          "variety": "Velvet",
          "year": 1932,
          "yield": 32.23333
         },
         {
          "site": "Duluth",
          "variety": "Velvet",
          "year": 1932,
          "yield": 22.46667
         },
         {
          "site": "University Farm",
          "variety": "Trebi",
          "year": 1932,
          "yield": 29.06667
         },
         {
          "site": "Waseca",
          "variety": "Trebi",
          "year": 1932,
          "yield": 49.2333
         },
         {
          "site": "Morris",
          "variety": "Trebi",
          "year": 1932,
          "yield": 46.63333
         },
         {
          "site": "Crookston",
          "variety": "Trebi",
          "year": 1932,
          "yield": 41.83333
         },
         {
          "site": "Grand Rapids",
          "variety": "Trebi",
          "year": 1932,
          "yield": 20.63333
         },
         {
          "site": "Duluth",
          "variety": "Trebi",
          "year": 1932,
          "yield": 30.6
         },
         {
          "site": "University Farm",
          "variety": "No. 457",
          "year": 1932,
          "yield": 26.43334
         },
         {
          "site": "Waseca",
          "variety": "No. 457",
          "year": 1932,
          "yield": 42.2
         },
         {
          "site": "Morris",
          "variety": "No. 457",
          "year": 1932,
          "yield": 43.53334
         },
         {
          "site": "Crookston",
          "variety": "No. 457",
          "year": 1932,
          "yield": 34.33333
         },
         {
          "site": "Grand Rapids",
          "variety": "No. 457",
          "year": 1932,
          "yield": 19.46667
         },
         {
          "site": "Duluth",
          "variety": "No. 457",
          "year": 1932,
          "yield": 22.7
         },
         {
          "site": "University Farm",
          "variety": "No. 462",
          "year": 1932,
          "yield": 25.56667
         },
         {
          "site": "Waseca",
          "variety": "No. 462",
          "year": 1932,
          "yield": 44.7
         },
         {
          "site": "Morris",
          "variety": "No. 462",
          "year": 1932,
          "yield": 47
         },
         {
          "site": "Crookston",
          "variety": "No. 462",
          "year": 1932,
          "yield": 30.53333
         },
         {
          "site": "Grand Rapids",
          "variety": "No. 462",
          "year": 1932,
          "yield": 19.9
         },
         {
          "site": "Duluth",
          "variety": "No. 462",
          "year": 1932,
          "yield": 22.5
         },
         {
          "site": "University Farm",
          "variety": "Peatland",
          "year": 1932,
          "yield": 28.06667
         },
         {
          "site": "Waseca",
          "variety": "Peatland",
          "year": 1932,
          "yield": 36.03333
         },
         {
          "site": "Morris",
          "variety": "Peatland",
          "year": 1932,
          "yield": 43.2
         },
         {
          "site": "Crookston",
          "variety": "Peatland",
          "year": 1932,
          "yield": 25.23333
         },
         {
          "site": "Grand Rapids",
          "variety": "Peatland",
          "year": 1932,
          "yield": 26.76667
         },
         {
          "site": "Duluth",
          "variety": "Peatland",
          "year": 1932,
          "yield": 31.36667
         },
         {
          "site": "University Farm",
          "variety": "No. 475",
          "year": 1932,
          "yield": 30
         },
         {
          "site": "Waseca",
          "variety": "No. 475",
          "year": 1932,
          "yield": 41.26667
         },
         {
          "site": "Morris",
          "variety": "No. 475",
          "year": 1932,
          "yield": 44.23333
         },
         {
          "site": "Crookston",
          "variety": "No. 475",
          "year": 1932,
          "yield": 32.13333
         },
         {
          "site": "Grand Rapids",
          "variety": "No. 475",
          "year": 1932,
          "yield": 15.23333
         },
         {
          "site": "Duluth",
          "variety": "No. 475",
          "year": 1932,
          "yield": 27.36667
         },
         {
          "site": "University Farm",
          "variety": "Wisconsin No. 38",
          "year": 1932,
          "yield": 38
         },
         {
          "site": "Waseca",
          "variety": "Wisconsin No. 38",
          "year": 1932,
          "yield": 58.16667
         },
         {
          "site": "Morris",
          "variety": "Wisconsin No. 38",
          "year": 1932,
          "yield": 47.16667
         },
         {
          "site": "Crookston",
          "variety": "Wisconsin No. 38",
          "year": 1932,
          "yield": 35.9
         },
         {
          "site": "Grand Rapids",
          "variety": "Wisconsin No. 38",
          "year": 1932,
          "yield": 20.66667
         },
         {
          "site": "Duluth",
          "variety": "Wisconsin No. 38",
          "year": 1932,
          "yield": 29.33333
         }
        ]
       },
       "encoding": {
        "color": {
         "field": "year",
         "type": "nominal"
        },
        "column": {
         "field": "site",
         "type": "nominal"
        },
        "x": {
         "field": "year",
         "type": "ordinal"
        },
        "y": {
         "aggregate": "sum",
         "field": "yield",
         "type": "quantitative"
        }
       },
       "mark": "bar"
      },
      "image/png": "[encoded data removed]",
      "text/plain": [
       "<VegaLite 3 object>\n",
       "\n",
       "If you see this message, it means the renderer has not been properly enabled\n",
       "for the frontend that you are using. For more information, see\n",
       "https://altair-viz.github.io/user_guide/troubleshooting.html\n"
      ]
     },
     "execution_count": 4,
     "metadata": {},
     "output_type": "execute_result"
    }
   ],
   "source": [
    "!pip install vega_datasets\n",
    "!pip install altair \n",
    "import altair as alt\n",
    "\n",
    "# to use with Jupyter notebook (not JupyterLab) run the following\n",
    "# alt.renderers.enable('notebook')\n",
    "\n",
    "# load a simple dataset as a pandas DataFrame\n",
    "from vega_datasets import data\n",
    "source = data.barley()\n",
    "\n",
    "alt.Chart(source).mark_bar().encode(\n",
    "    x='year:O',\n",
    "    y='sum(yield):Q',\n",
    "    color='year:N',\n",
    "    column='site:N'\n",
    ")"
   ]
  },
  {
   "cell_type": "code",
   "execution_count": 94,
   "metadata": {},
   "outputs": [
    {
     "name": "stdout",
     "output_type": "stream",
     "text": [
      "[72 74 73 50  4]\n",
      "[75 85 38 10 51]\n",
      "[37  1 78 55 29]\n",
      "[15 10  6 21  7]\n"
     ]
    },
    {
     "data": {
      "image/png": "[encoded data removed]",
      "text/plain": [
       "<Figure size 720x360 with 1 Axes>"
      ]
     },
     "metadata": {
      "needs_background": "light"
     },
     "output_type": "display_data"
    }
   ],
   "source": [
    "import matplotlib.pyplot as plt\n",
    "\n",
    "\n",
    "\n",
    "N = 5\n",
    "\n",
    "fig, ax = plt.subplots(sharex=False, figsize=(10,5))\n",
    "\n",
    "#font = {'family' : 'sans-serif',\n",
    "#'weight' : 'bold',\n",
    "#'size'  : '16'}\n",
    "#plt.rc('font', **font)        # 步驟一（設定字型的更多屬性）\n",
    "#plt.rc('axes', unicode_minus=False) # 步驟二（解決座標軸負數的負號顯示問題）\n",
    "\n",
    "value1 = [float(i) for i in rateLists[0]]\n",
    "value2 = [float(i) for i in rateLists[1]]\n",
    "value3 = [float(i) for i in rateLists[2]]\n",
    "value4 = [float(i) for i in rateLists[3]]\n",
    "\n",
    "ind = np.arange(N)    # the x locations for the groups\n",
    "width = 0.2       # the width of the bars\n",
    "p1 = ax.bar(ind, value1, width)\n",
    "p2 = ax.bar(ind+width, value2, width)\n",
    "p3 = ax.bar(ind+2*width, value3, width)\n",
    "p4 = ax.bar(ind+3*width, value4, width)\n",
    "\n",
    "ax.set_title(\"72字元短文字壓縮率比較(越低越佳)\")\n",
    "ax.set_xticks(ind + 1.5*width)\n",
    "#plt.xticks(index+gap, index)\n",
    "ax.set_xticklabels(('STR', 'HEX', 'BASE64', 'REPEAT', '100xSTR'))\n",
    "\n",
    "ax.legend((p1[0], p2[0], p3[0], p4[0] ), ('BROTLI', 'BZIP2', 'LZMA', 'ZSTD'))\n",
    "ax.autoscale_view()\n",
    "\n",
    "plt.show()"
   ]
  },
  {
   "cell_type": "code",
   "execution_count": null,
   "metadata": {},
   "outputs": [],
   "source": []
  },
  {
   "cell_type": "code",
   "execution_count": null,
   "metadata": {},
   "outputs": [],
   "source": []
  },
  {
   "cell_type": "code",
   "execution_count": null,
   "metadata": {},
   "outputs": [],
   "source": []
  }
 ],
 "metadata": {
  "kernelspec": {
   "display_name": "Python 3",
   "language": "python",
   "name": "python3"
  },
  "language_info": {
   "codemirror_mode": {
    "name": "ipython",
    "version": 3
   },
   "file_extension": ".py",
   "mimetype": "text/x-python",
   "name": "python",
   "nbconvert_exporter": "python",
   "pygments_lexer": "ipython3",
   "version": "3.7.3"
  }
 },
 "nbformat": 4,
 "nbformat_minor": 4
}
