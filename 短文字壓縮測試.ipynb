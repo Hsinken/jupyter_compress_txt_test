{
 "cells": [
  {
   "cell_type": "markdown",
   "metadata": {},
   "source": [
    "# 短文字壓縮測試"
   ]
  },
  {
   "cell_type": "markdown",
   "metadata": {},
   "source": [
    "## 目的\n",
    "不使用DB或任何存檔手段，將72字元無損壓縮成32內字元，以符合API限制。"
   ]
  },
  {
   "cell_type": "markdown",
   "metadata": {},
   "source": [
    "## 現階段結果\n",
    "- 因字串過短壓縮後又需用Base64轉成可被API傳送的字元，無法達32字元目標。\n",
    "- 若資料量越大則壓縮效果越明顯但1k始終沒法達成目標。\n",
    "\n",
    "## 思考方向\n",
    "- 壓縮後結果不用Base64再轉字串，因爲Base64將會讓資料大4/3倍。"
   ]
  },
  {
   "cell_type": "markdown",
   "metadata": {},
   "source": [
    "## 主流壓縮方式測試"
   ]
  },
  {
   "cell_type": "markdown",
   "metadata": {},
   "source": [
    "### 72字元壓縮測試->目標32字元內"
   ]
  },
  {
   "cell_type": "code",
   "execution_count": 53,
   "metadata": {},
   "outputs": [
    {
     "name": "stdout",
     "output_type": "stream",
     "text": [
      "InStr(72):YPXP9XD4CLOV38JVHWL362G4RKPCQL3LTJ5TQW6QZ8N6JU7O3IX1PHU9NR4AREXLARZ0B8KU\n",
      "RepeatStr(149):STACK OVERFLOW STACK OVERFLOW STACK OVERFLOW STACK OVERFLOW STACK OVERFLOW STACK OVERFLOW STACK OVERFLOW STACK OVERFLOW STACK OVERFLOW STACK OVERFLOW\n",
      "InStr 100x(7200)\n",
      "InToHex(144):5950585039584434434c4f5633384a5648574c3336324734524b5043514c334c544a3554515736515a384e364a55374f33495831504855394e5234415245584c41525a3042384b55\n",
      "InToBase64(96):WVBYUDlYRDRDTE9WMzhKVkhXTDM2Mkc0UktQQ1FMM0xUSjVUUVc2UVo4TjZKVTdPM0lYMVBIVTlOUjRBUkVYTEFSWjBCOEtV\n",
      "\n",
      "=== Brotli(Google) ===\n",
      "Requirement already satisfied: brotli in /anaconda3/lib/python3.7/site-packages (1.0.7)\n",
      "Out <Brotli> Ori(84):G0cA-GVwXqwDI_27ZEEpCujffKd8LTF13FjkOz4VMxTILtOsiuuZ6bketn7RWb74wOmFM16yb6K2eys_0KJc\n",
      "Out <Brotli> Hex(108):G48A-AWszsoWm3C6EvOfMGgCXDyA22YdZFsQCI_fmaQ4TsrFSzIzWMHBtRE7L-EJJ4rdlWn3pPgyOZrFn7CtdBul2XyOQHegxaM7PGmMdBU=\n",
      "Out <Brotli> B64(120):G18A-MVAO8f1wVUIdGm6AiqFYIofOovCmeroZCUrXeeW_LcjDtuZrkhADgvPHJ5C-A0h3teoPYzBIjC4RHo_H6GXnHhHR1D00Edm9rIAnK4bZfdFyeonAA==\n",
      "Out <Brotli> Repeat(36):G5QA-I2Uq7NLOTRFVUFL5YpgJUBPmk8zAA==\n",
      "Out <Brotli> 100x(6272)\n",
      "\n",
      "=== bzip2 ===\n",
      "Out <bzip2> Ori(136):QlpoOTFBWSZTWdhScXwAACKOAH_gPv338CAAVGGTEwBMAAGG1GmgxPU9E0eoP1JUO4-6Z4k-XqAVIF6mpsI4IR6BKY3RGfbsFXZoWuSlSw_w2K6RkLvd_7pehOC7kinChIbCk4vg\n",
      "Out <bzip2> Hex(148):QlpoOTFBWSZTWaFALUoAADOJAH_gOwAgAHURPU08kyNA1P0kJ6aR6msiRpPAMVcn0t7VT2GEu81G9R3yW0b6FhDa46yiJ7lML1T-RUzZcdaRdbqD5bjjGy9VCFxpiEA0222GFj8XckU4UJChQC1K\n",
      "Out <bzip2> B64(164):QlpoOTFBWSZTWdYRvdgAACGPgHQgHyr_8AxchFAgAEiKeSDTRoD0aRpp6gMPIIwEYmjRgjh4aCS40QxfFgIQQe22dJZQj0c5L2nkWucasrSYl6Bmyj699rO3wkul14n1kLEbDX4WJQUGnAXck1qQ_4u5IpwoSGsI3uwA\n",
      "Out <bzip2> Repeat(88):QlpoOTFBWSZTWYprqCIAADaWAEAAKwydgCAAQFKoAyaEA0AdJqPk5TSfJ4mE9TKZTHEaTRPxdyRThQkIprqCIA==\n",
      "Out <Brotli> 100x(6388)\n",
      "\n",
      "=== lzma(7z) ===\n",
      "Out <lzma> Ori(172):_Td6WFoAAATm1rRGAgAhARYAAAB0L-WjAQBHWVBYUDlYRDRDTE9WMzhKVkhXTDM2Mkc0UktQQ1FMM0xUSjVUUVc2UVo4TjZKVTdPM0lYMVBIVTlOUjRBUkVYTEFSWjBCOEtVANXzE11INbL-AAFgSC4XfD0ftvN9AQAAAAAEWVo=\n",
      "Out <lzma> Hex(236):_Td6WFoAAATm1rRGAgAhARYAAAB0L-Wj4ACPAG9dABqOQvHKloTxdOeZN_Cx74CZckQOG62kkDWnCr1kakTsqL2p7DDBG3j6CRd5zMVOc5oPuDV6aFVAX5VcymrYlTvpPwRd0Ti66nmpPafHi9LksvEQfjLeQvgjhsO7RGMIQj-QjYESNNKa4Ko_3qLu0AAAceP_d8VzuQYAAYsBkAEAAOWSwDaxxGf7AgAAAAAEWVo=\n",
      "Out <lzma> B64(204):_Td6WFoAAATm1rRGAgAhARYAAAB0L-WjAQBfV1ZCWVVEbFlSRFJEVEU5V016aEtWa2hYVERNMk1rYzBVa3RRUTFGTU0weFVTalZVVVZjMlVWbzRUalpLVlRkUE0wbFlNVkJJVlRsT1VqUkJVa1ZZVEVGU1dqQkNPRXRWAAeTIozeD1lgAAF4YI0n0ooftvN9AQAAAAAEWVo=\n",
      "Out <lzma> Repeat(120):_Td6WFoAAATm1rRGAgAhARYAAAB0L-Wj4ACUABZdACmVBCR_recCXLDtRRUhEeWI1QrBAAAAAAAccqYRsg1w1wABMpUBAAAAfr29K7HEZ_sCAAAAAARZWg==\n",
      "Out <Brotli> 100x(6568)\n",
      "\n",
      "=== zstd(Facebook)===\n",
      "Requirement already satisfied: zstandard in /anaconda3/lib/python3.7/site-packages (0.11.1)\n",
      "Out <zstd> Ori(108):KLUv_SBIQQIAWVBYUDlYRDRDTE9WMzhKVkhXTDM2Mkc0UktQQ1FMM0xUSjVUUVc2UVo4TjZKVTdPM0lYMVBIVTlOUjRBUkVYTEFSWjBCOEtV\n",
      "Out <zstd> Hex(124):KLUv_SCQpQIAQsgRD6BBAI-YKtZ6Spw7PfOgAY-sDcPOyXrHQjcGNPsyLFYbt8CyP5IB1s5isrLY39GT4hlGjl1xjGxLlkvysbaRA9O0NgvXYXMDBAFCS3zOR1cH\n",
      "Out <zstd> B64(132):KLUv_SBgzQIAAkYVGoC5CZgy7u3lgxC0_2cLEckniCRfEdgVRZH2bxIywLYUIy27M6pm5O0JeGXvaAGxPw5tA4kbLbffFCuOqgFIksb5LE6R5hoY94NZ6BKkTZWKvTTDrwA=\n",
      "Out <zstd> Repeat(44):KLUv_SCVtQAAeFNUQUNLIE9WRVJGTE9XIAEAA6FmHQ==\n",
      "Out <Brotli> 100x(6300)\n"
     ]
    }
   ],
   "source": [
    "import string\n",
    "import random\n",
    "inStrCount = 72\n",
    "inStr = ''.join(random.choices(string.ascii_uppercase + string.digits, k=inStrCount))\n",
    "lenInStr = len(inStr)\n",
    "print(\"InStr(\" + str(len(inStr)) + \"):\" + inStr)\n",
    "\n",
    "repeatStr = 'STACK OVERFLOW STACK OVERFLOW STACK OVERFLOW STACK OVERFLOW STACK OVERFLOW STACK OVERFLOW STACK OVERFLOW STACK OVERFLOW STACK OVERFLOW STACK OVERFLOW'\n",
    "print(\"RepeatStr(\" + str(len(repeatStr)) + \"):\" + repeatStr)\n",
    "\n",
    "\n",
    "inStr100x = ''.join(random.choices(string.ascii_uppercase + string.digits, k=inStrCount*100))\n",
    "lenInStr100x = len(inStr100x)\n",
    "print(\"InStr 100x(\" + str(len(inStr100x)) + \")\")\n",
    "\n",
    "compressResultLists = []\n",
    "\n",
    "#Hex\n",
    "import binascii\n",
    "hexData = binascii.b2a_hex(inStr.encode(\"ascii\"))\n",
    "hexStr = hexData.decode(\"ascii\")\n",
    "print(\"InToHex(\" + str(len(hexStr)) + \"):\" + hexStr)\n",
    "\n",
    "#Base64 encode\n",
    "import base64\n",
    "def strBase64encodeToStr(oriStr):\n",
    "    encodedBytes = base64.urlsafe_b64encode(oriStr.encode(\"utf-8\"))\n",
    "    encodedStr = str(encodedBytes, \"utf-8\")\n",
    "    return encodedStr\n",
    "\n",
    "def bytesBase64encodeToStr(oriBytes):\n",
    "    encodedBytes = base64.urlsafe_b64encode(oriBytes)\n",
    "    encodedStr = str(encodedBytes, \"utf-8\")\n",
    "    return encodedStr\n",
    "\n",
    "b64Str = strBase64encodeToStr(inStr)\n",
    "b64Data = b64Str.encode(\"ascii\")\n",
    "print(\"InToBase64(\" + str(len(b64Str)) + \"):\" + b64Str)\n",
    "\n",
    "#bytesToStr\n",
    "def bytesToStr(oriData):\n",
    "    return bytesBase64encodeToStr(oriData)\n",
    "    #return \"\".join( chr(x) for x in bytearray(oriData) )\n",
    "\n",
    "#Brotli\n",
    "print(\"\\n=== Brotli(Google) ===\")\n",
    "!pip install brotli\n",
    "import brotli\n",
    "\n",
    "def bytesBrotliToStr(oriData):\n",
    "    compressed = brotli.compress(oriData, quality=11)\n",
    "    result = bytesToStr(compressed)\n",
    "    return result\n",
    "\n",
    "\n",
    "outStrOri = bytesBrotliToStr(inStr.encode(\"utf-8\"))\n",
    "lenStrOri =  len(outStrOri)\n",
    "print(\"Out <Brotli> Ori(\" + str(lenStrOri) + \"):\" + outStrOri)\n",
    "\n",
    "outStrHex = bytesBrotliToStr(hexData)\n",
    "lenStrHex =  len(outStrHex)\n",
    "print(\"Out <Brotli> Hex(\" + str(lenStrHex) + \"):\" + outStrHex)\n",
    "\n",
    "outStrBase64 = bytesBrotliToStr(b64Data)\n",
    "lenStrBase64 =  len(outStrBase64)\n",
    "print(\"Out <Brotli> B64(\" + str(lenStrBase64) + \"):\" + outStrBase64)\n",
    "\n",
    "outStrRepeat = bytesBrotliToStr(repeatStr.encode(\"utf-8\"))\n",
    "lenStrRepeat =  len(outStrRepeat)\n",
    "print(\"Out <Brotli> Repeat(\" + str(lenStrRepeat) + \"):\" + outStrRepeat)\n",
    "\n",
    "outStr100x = bytesBrotliToStr(inStr100x.encode(\"utf-8\"))\n",
    "lenStr100x =  len(outStr100x)\n",
    "print(\"Out <Brotli> 100x(\" + str(lenStr100x) + \")\")\n",
    "\n",
    "rateStr = lenStrOri / lenInStr\n",
    "rateHex = lenStrHex / lenInStr\n",
    "rateBase64 = lenStrBase64 / lenInStr\n",
    "rateRepeat = lenStrRepeat / lenInStr\n",
    "rateStr100x = lenStr100x / lenInStr100x\n",
    "\n",
    "compressResultLists.append(['BROTLI', lenInStr, lenStrOri, rateStr, lenStrHex, rateHex, lenStrBase64, rateBase64, lenStrRepeat, rateRepeat, lenStr100x, rateStr100x])\n",
    "\n",
    "\n",
    "#bzip2\n",
    "print(\"\\n=== bzip2 ===\")\n",
    "#!pip install bz2\n",
    "import bz2\n",
    "\n",
    "def bytesBzip2ToStr(oriData):\n",
    "    compressed = bz2.compress(oriData)\n",
    "    result = bytesToStr(compressed)\n",
    "    return result\n",
    "\n",
    "\n",
    "outStrOri = bytesBzip2ToStr(inStr.encode(\"utf-8\"))\n",
    "lenStrOri =  len(outStrOri)\n",
    "print(\"Out <bzip2> Ori(\" + str(lenStrOri) + \"):\" + outStrOri)\n",
    "\n",
    "outStrHex = bytesBzip2ToStr(hexData)\n",
    "lenStrHex =  len(outStrHex)\n",
    "print(\"Out <bzip2> Hex(\" + str(lenStrHex) + \"):\" + outStrHex)\n",
    "\n",
    "outStrBase64 = bytesBzip2ToStr(b64Data)\n",
    "lenStrBase64 =  len(outStrBase64)\n",
    "print(\"Out <bzip2> B64(\" + str(lenStrBase64) + \"):\" + outStrBase64)\n",
    "\n",
    "outStrRepeat = bytesBzip2ToStr(repeatStr.encode(\"utf-8\"))\n",
    "lenStrRepeat =  len(outStrRepeat)\n",
    "print(\"Out <bzip2> Repeat(\" + str(lenStrRepeat) + \"):\" + outStrRepeat)\n",
    "\n",
    "outStr100x = bytesBzip2ToStr(inStr100x.encode(\"utf-8\"))\n",
    "lenStr100x =  len(outStr100x)\n",
    "print(\"Out <Brotli> 100x(\" + str(lenStr100x) + \")\")\n",
    "\n",
    "rateStr = lenStrOri / lenInStr\n",
    "rateHex = lenStrHex / lenInStr\n",
    "rateBase64 = lenStrBase64 / lenInStr\n",
    "rateRepeat = lenStrRepeat / lenInStr\n",
    "rateStr100x = lenStr100x / lenInStr100x\n",
    "\n",
    "compressResultLists.append(['BZIP2', lenInStr, lenStrOri, rateStr, lenStrHex, rateHex, lenStrBase64, rateBase64, lenStrRepeat, rateRepeat, lenStr100x, rateStr100x])\n",
    "\n",
    "\n",
    "#lzma\n",
    "print(\"\\n=== lzma(7z) ===\")\n",
    "#!pip install lzma\n",
    "import lzma\n",
    "\n",
    "def bytesLzmaToStr(oriData):\n",
    "    compressed = lzma.compress(oriData)\n",
    "    result = bytesToStr(compressed)\n",
    "    return result\n",
    "\n",
    "\n",
    "outStrOri = bytesLzmaToStr(inStr.encode(\"utf-8\"))\n",
    "lenStrOri =  len(outStrOri)\n",
    "print(\"Out <lzma> Ori(\" + str(lenStrOri) + \"):\" + outStrOri)\n",
    "\n",
    "outStrHex = bytesLzmaToStr(hexData)\n",
    "lenStrHex =  len(outStrHex)\n",
    "print(\"Out <lzma> Hex(\" + str(lenStrHex) + \"):\" + outStrHex)\n",
    "\n",
    "outStrBase64 = bytesLzmaToStr(b64Data)\n",
    "lenStrBase64 =  len(outStrBase64)\n",
    "print(\"Out <lzma> B64(\" + str(lenStrBase64) + \"):\" + outStrBase64)\n",
    "\n",
    "outStrRepeat = bytesLzmaToStr(repeatStr.encode(\"utf-8\"))\n",
    "lenStrRepeat =  len(outStrRepeat)\n",
    "print(\"Out <lzma> Repeat(\" + str(lenStrRepeat) + \"):\" + outStrRepeat)\n",
    "\n",
    "outStr100x = bytesLzmaToStr(inStr100x.encode(\"utf-8\"))\n",
    "lenStr100x =  len(outStr100x)\n",
    "print(\"Out <Brotli> 100x(\" + str(lenStr100x) + \")\")\n",
    "\n",
    "rateStr = lenStrOri / lenInStr\n",
    "rateHex = lenStrHex / lenInStr\n",
    "rateBase64 = lenStrBase64 / lenInStr\n",
    "rateRepeat = lenStrRepeat / lenInStr\n",
    "rateStr100x = lenStr100x / lenInStr100x\n",
    "\n",
    "compressResultLists.append(['LZMA', lenInStr, lenStrOri, rateStr, lenStrHex, rateHex, lenStrBase64, rateBase64, lenStrRepeat, rateRepeat, lenStr100x, rateStr100x])\n",
    "\n",
    "\n",
    "#zstd\n",
    "print(\"\\n=== zstd(Facebook)===\")\n",
    "!pip install zstandard\n",
    "import zstandard\n",
    "      \n",
    "def bytesZstdToStr(oriData):\n",
    "    zstd = zstandard.ZstdCompressor()\n",
    "    compressed = zstd.compress(oriData)\n",
    "    result = bytesToStr(compressed)\n",
    "    return result\n",
    "      \n",
    "      \n",
    "outStrOri = bytesZstdToStr(inStr.encode(\"utf-8\"))\n",
    "lenStrOri =  len(outStrOri)\n",
    "print(\"Out <zstd> Ori(\" + str(lenStrOri) + \"):\" + outStrOri)\n",
    "\n",
    "outStrHex = bytesZstdToStr(hexData)\n",
    "lenStrHex =  len(outStrHex)\n",
    "print(\"Out <zstd> Hex(\" + str(lenStrHex) + \"):\" + outStrHex)\n",
    "\n",
    "outStrBase64 = bytesZstdToStr(b64Data)\n",
    "lenStrBase64 =  len(outStrBase64)\n",
    "print(\"Out <zstd> B64(\" + str(lenStrBase64) + \"):\" + outStrBase64)\n",
    "\n",
    "outStrRepeat = bytesZstdToStr(repeatStr.encode(\"utf-8\"))\n",
    "lenStrRepeat =  len(outStrRepeat)\n",
    "print(\"Out <zstd> Repeat(\" + str(lenStrRepeat) + \"):\" + outStrRepeat)\n",
    "\n",
    "outStr100x = bytesZstdToStr(inStr100x.encode(\"utf-8\"))\n",
    "lenStr100x =  len(outStr100x)\n",
    "print(\"Out <Brotli> 100x(\" + str(lenStr100x) + \")\")\n",
    "\n",
    "rateStr = lenStrOri / lenInStr\n",
    "rateHex = lenStrHex / lenInStr\n",
    "rateBase64 = lenStrBase64 / lenInStr\n",
    "rateRepeat = lenStrRepeat / lenInStr\n",
    "rateStr100x = lenStr100x / lenInStr100x\n",
    "\n",
    "compressResultLists.append(['ZSTD', lenInStr, lenStrOri, rateStr, lenStrHex, rateHex, lenStrBase64, rateBase64, lenStrRepeat, rateRepeat, lenStr100x, rateStr100x])\n"
   ]
  },
  {
   "cell_type": "markdown",
   "metadata": {},
   "source": [
    "## 比較壓縮率"
   ]
  },
  {
   "cell_type": "code",
   "execution_count": 59,
   "metadata": {},
   "outputs": [
    {
     "name": "stdout",
     "output_type": "stream",
     "text": [
      "        Method Origin C-Str              C-StrR C-Hex              C-HexR  \\\n",
      "BROTLI  BROTLI     72    84  1.1666666666666667   108                 1.5   \n",
      "BZIP2    BZIP2     72   136  1.8888888888888888   148  2.0555555555555554   \n",
      "LZMA      LZMA     72   172   2.388888888888889   236  3.2777777777777777   \n",
      "ZSTD      ZSTD     72   108                 1.5   124  1.7222222222222223   \n",
      "\n",
      "       C-Base64           C-Base64R C-Repeat           C-RepeatR C-Str100x  \\\n",
      "BROTLI      120  1.6666666666666667       36                 0.5      6272   \n",
      "BZIP2       164  2.2777777777777777       88  1.2222222222222223      6388   \n",
      "LZMA        204  2.8333333333333335      120  1.6666666666666667      6568   \n",
      "ZSTD        132  1.8333333333333333       44  0.6111111111111112      6300   \n",
      "\n",
      "                C-Str100xR  \n",
      "BROTLI  0.8711111111111111  \n",
      "BZIP2   0.8872222222222222  \n",
      "LZMA    0.9122222222222223  \n",
      "ZSTD                 0.875  \n",
      "Requirement already satisfied: plotly in /anaconda3/lib/python3.7/site-packages (4.0.0)\n",
      "Requirement already satisfied: six in /anaconda3/lib/python3.7/site-packages (from plotly) (1.12.0)\n",
      "Requirement already satisfied: retrying>=1.3.3 in /anaconda3/lib/python3.7/site-packages (from plotly) (1.3.3)\n"
     ]
    },
    {
     "data": {
      "application/vnd.plotly.v1+json": {
       "config": {
        "plotlyServerURL": "https://plot.ly"
       },
       "data": [
        {
         "name": "BROTLI",
         "type": "bar",
         "x": [
          "原字串",
          "轉Hex",
          "轉Base64",
          "重複字串",
          "100x長度"
         ],
         "xaxis": "x",
         "y": [
          "1.1666666666666667",
          "1.5",
          "1.6666666666666667",
          "0.5",
          "0.8711111111111111"
         ],
         "yaxis": "y"
        },
        {
         "name": "BZIP2",
         "type": "bar",
         "x": [
          "原字串",
          "轉Hex",
          "轉Base64",
          "重複字串",
          "100x長度"
         ],
         "xaxis": "x",
         "y": [
          "1.8888888888888888",
          "2.0555555555555554",
          "2.2777777777777777",
          "1.2222222222222223",
          "0.8872222222222222"
         ],
         "yaxis": "y"
        },
        {
         "name": "LZMA",
         "type": "bar",
         "x": [
          "原字串",
          "轉Hex",
          "轉Base64",
          "重複字串",
          "100x長度"
         ],
         "xaxis": "x",
         "y": [
          "2.388888888888889",
          "3.2777777777777777",
          "2.8333333333333335",
          "1.6666666666666667",
          "0.9122222222222223"
         ],
         "yaxis": "y"
        },
        {
         "name": "ZSTD",
         "type": "bar",
         "x": [
          "原字串",
          "轉Hex",
          "轉Base64",
          "重複字串",
          "100x長度"
         ],
         "xaxis": "x",
         "y": [
          "1.5",
          "1.7222222222222223",
          "1.8333333333333333",
          "0.6111111111111112",
          "0.875"
         ],
         "yaxis": "y"
        }
       ],
       "layout": {
        "height": 500,
        "showlegend": true,
        "template": {
         "data": {
          "bar": [
           {
            "error_x": {
             "color": "#2a3f5f"
            },
            "error_y": {
             "color": "#2a3f5f"
            },
            "marker": {
             "line": {
              "color": "#E5ECF6",
              "width": 0.5
             }
            },
            "type": "bar"
           }
          ],
          "barpolar": [
           {
            "marker": {
             "line": {
              "color": "#E5ECF6",
              "width": 0.5
             }
            },
            "type": "barpolar"
           }
          ],
          "carpet": [
           {
            "aaxis": {
             "endlinecolor": "#2a3f5f",
             "gridcolor": "white",
             "linecolor": "white",
             "minorgridcolor": "white",
             "startlinecolor": "#2a3f5f"
            },
            "baxis": {
             "endlinecolor": "#2a3f5f",
             "gridcolor": "white",
             "linecolor": "white",
             "minorgridcolor": "white",
             "startlinecolor": "#2a3f5f"
            },
            "type": "carpet"
           }
          ],
          "choropleth": [
           {
            "colorbar": {
             "outlinewidth": 0,
             "ticks": ""
            },
            "type": "choropleth"
           }
          ],
          "contour": [
           {
            "colorbar": {
             "outlinewidth": 0,
             "ticks": ""
            },
            "colorscale": [
             [
              0,
              "#0d0887"
             ],
             [
              0.1111111111111111,
              "#46039f"
             ],
             [
              0.2222222222222222,
              "#7201a8"
             ],
             [
              0.3333333333333333,
              "#9c179e"
             ],
             [
              0.4444444444444444,
              "#bd3786"
             ],
             [
              0.5555555555555556,
              "#d8576b"
             ],
             [
              0.6666666666666666,
              "#ed7953"
             ],
             [
              0.7777777777777778,
              "#fb9f3a"
             ],
             [
              0.8888888888888888,
              "#fdca26"
             ],
             [
              1,
              "#f0f921"
             ]
            ],
            "type": "contour"
           }
          ],
          "contourcarpet": [
           {
            "colorbar": {
             "outlinewidth": 0,
             "ticks": ""
            },
            "type": "contourcarpet"
           }
          ],
          "heatmap": [
           {
            "colorbar": {
             "outlinewidth": 0,
             "ticks": ""
            },
            "colorscale": [
             [
              0,
              "#0d0887"
             ],
             [
              0.1111111111111111,
              "#46039f"
             ],
             [
              0.2222222222222222,
              "#7201a8"
             ],
             [
              0.3333333333333333,
              "#9c179e"
             ],
             [
              0.4444444444444444,
              "#bd3786"
             ],
             [
              0.5555555555555556,
              "#d8576b"
             ],
             [
              0.6666666666666666,
              "#ed7953"
             ],
             [
              0.7777777777777778,
              "#fb9f3a"
             ],
             [
              0.8888888888888888,
              "#fdca26"
             ],
             [
              1,
              "#f0f921"
             ]
            ],
            "type": "heatmap"
           }
          ],
          "heatmapgl": [
           {
            "colorbar": {
             "outlinewidth": 0,
             "ticks": ""
            },
            "colorscale": [
             [
              0,
              "#0d0887"
             ],
             [
              0.1111111111111111,
              "#46039f"
             ],
             [
              0.2222222222222222,
              "#7201a8"
             ],
             [
              0.3333333333333333,
              "#9c179e"
             ],
             [
              0.4444444444444444,
              "#bd3786"
             ],
             [
              0.5555555555555556,
              "#d8576b"
             ],
             [
              0.6666666666666666,
              "#ed7953"
             ],
             [
              0.7777777777777778,
              "#fb9f3a"
             ],
             [
              0.8888888888888888,
              "#fdca26"
             ],
             [
              1,
              "#f0f921"
             ]
            ],
            "type": "heatmapgl"
           }
          ],
          "histogram": [
           {
            "marker": {
             "colorbar": {
              "outlinewidth": 0,
              "ticks": ""
             }
            },
            "type": "histogram"
           }
          ],
          "histogram2d": [
           {
            "colorbar": {
             "outlinewidth": 0,
             "ticks": ""
            },
            "colorscale": [
             [
              0,
              "#0d0887"
             ],
             [
              0.1111111111111111,
              "#46039f"
             ],
             [
              0.2222222222222222,
              "#7201a8"
             ],
             [
              0.3333333333333333,
              "#9c179e"
             ],
             [
              0.4444444444444444,
              "#bd3786"
             ],
             [
              0.5555555555555556,
              "#d8576b"
             ],
             [
              0.6666666666666666,
              "#ed7953"
             ],
             [
              0.7777777777777778,
              "#fb9f3a"
             ],
             [
              0.8888888888888888,
              "#fdca26"
             ],
             [
              1,
              "#f0f921"
             ]
            ],
            "type": "histogram2d"
           }
          ],
          "histogram2dcontour": [
           {
            "colorbar": {
             "outlinewidth": 0,
             "ticks": ""
            },
            "colorscale": [
             [
              0,
              "#0d0887"
             ],
             [
              0.1111111111111111,
              "#46039f"
             ],
             [
              0.2222222222222222,
              "#7201a8"
             ],
             [
              0.3333333333333333,
              "#9c179e"
             ],
             [
              0.4444444444444444,
              "#bd3786"
             ],
             [
              0.5555555555555556,
              "#d8576b"
             ],
             [
              0.6666666666666666,
              "#ed7953"
             ],
             [
              0.7777777777777778,
              "#fb9f3a"
             ],
             [
              0.8888888888888888,
              "#fdca26"
             ],
             [
              1,
              "#f0f921"
             ]
            ],
            "type": "histogram2dcontour"
           }
          ],
          "mesh3d": [
           {
            "colorbar": {
             "outlinewidth": 0,
             "ticks": ""
            },
            "type": "mesh3d"
           }
          ],
          "parcoords": [
           {
            "line": {
             "colorbar": {
              "outlinewidth": 0,
              "ticks": ""
             }
            },
            "type": "parcoords"
           }
          ],
          "scatter": [
           {
            "marker": {
             "colorbar": {
              "outlinewidth": 0,
              "ticks": ""
             }
            },
            "type": "scatter"
           }
          ],
          "scatter3d": [
           {
            "line": {
             "colorbar": {
              "outlinewidth": 0,
              "ticks": ""
             }
            },
            "marker": {
             "colorbar": {
              "outlinewidth": 0,
              "ticks": ""
             }
            },
            "type": "scatter3d"
           }
          ],
          "scattercarpet": [
           {
            "marker": {
             "colorbar": {
              "outlinewidth": 0,
              "ticks": ""
             }
            },
            "type": "scattercarpet"
           }
          ],
          "scattergeo": [
           {
            "marker": {
             "colorbar": {
              "outlinewidth": 0,
              "ticks": ""
             }
            },
            "type": "scattergeo"
           }
          ],
          "scattergl": [
           {
            "marker": {
             "colorbar": {
              "outlinewidth": 0,
              "ticks": ""
             }
            },
            "type": "scattergl"
           }
          ],
          "scattermapbox": [
           {
            "marker": {
             "colorbar": {
              "outlinewidth": 0,
              "ticks": ""
             }
            },
            "type": "scattermapbox"
           }
          ],
          "scatterpolar": [
           {
            "marker": {
             "colorbar": {
              "outlinewidth": 0,
              "ticks": ""
             }
            },
            "type": "scatterpolar"
           }
          ],
          "scatterpolargl": [
           {
            "marker": {
             "colorbar": {
              "outlinewidth": 0,
              "ticks": ""
             }
            },
            "type": "scatterpolargl"
           }
          ],
          "scatterternary": [
           {
            "marker": {
             "colorbar": {
              "outlinewidth": 0,
              "ticks": ""
             }
            },
            "type": "scatterternary"
           }
          ],
          "surface": [
           {
            "colorbar": {
             "outlinewidth": 0,
             "ticks": ""
            },
            "colorscale": [
             [
              0,
              "#0d0887"
             ],
             [
              0.1111111111111111,
              "#46039f"
             ],
             [
              0.2222222222222222,
              "#7201a8"
             ],
             [
              0.3333333333333333,
              "#9c179e"
             ],
             [
              0.4444444444444444,
              "#bd3786"
             ],
             [
              0.5555555555555556,
              "#d8576b"
             ],
             [
              0.6666666666666666,
              "#ed7953"
             ],
             [
              0.7777777777777778,
              "#fb9f3a"
             ],
             [
              0.8888888888888888,
              "#fdca26"
             ],
             [
              1,
              "#f0f921"
             ]
            ],
            "type": "surface"
           }
          ],
          "table": [
           {
            "cells": {
             "fill": {
              "color": "#EBF0F8"
             },
             "line": {
              "color": "white"
             }
            },
            "header": {
             "fill": {
              "color": "#C8D4E3"
             },
             "line": {
              "color": "white"
             }
            },
            "type": "table"
           }
          ]
         },
         "layout": {
          "annotationdefaults": {
           "arrowcolor": "#2a3f5f",
           "arrowhead": 0,
           "arrowwidth": 1
          },
          "colorscale": {
           "diverging": [
            [
             0,
             "#8e0152"
            ],
            [
             0.1,
             "#c51b7d"
            ],
            [
             0.2,
             "#de77ae"
            ],
            [
             0.3,
             "#f1b6da"
            ],
            [
             0.4,
             "#fde0ef"
            ],
            [
             0.5,
             "#f7f7f7"
            ],
            [
             0.6,
             "#e6f5d0"
            ],
            [
             0.7,
             "#b8e186"
            ],
            [
             0.8,
             "#7fbc41"
            ],
            [
             0.9,
             "#4d9221"
            ],
            [
             1,
             "#276419"
            ]
           ],
           "sequential": [
            [
             0,
             "#0d0887"
            ],
            [
             0.1111111111111111,
             "#46039f"
            ],
            [
             0.2222222222222222,
             "#7201a8"
            ],
            [
             0.3333333333333333,
             "#9c179e"
            ],
            [
             0.4444444444444444,
             "#bd3786"
            ],
            [
             0.5555555555555556,
             "#d8576b"
            ],
            [
             0.6666666666666666,
             "#ed7953"
            ],
            [
             0.7777777777777778,
             "#fb9f3a"
            ],
            [
             0.8888888888888888,
             "#fdca26"
            ],
            [
             1,
             "#f0f921"
            ]
           ],
           "sequentialminus": [
            [
             0,
             "#0d0887"
            ],
            [
             0.1111111111111111,
             "#46039f"
            ],
            [
             0.2222222222222222,
             "#7201a8"
            ],
            [
             0.3333333333333333,
             "#9c179e"
            ],
            [
             0.4444444444444444,
             "#bd3786"
            ],
            [
             0.5555555555555556,
             "#d8576b"
            ],
            [
             0.6666666666666666,
             "#ed7953"
            ],
            [
             0.7777777777777778,
             "#fb9f3a"
            ],
            [
             0.8888888888888888,
             "#fdca26"
            ],
            [
             1,
             "#f0f921"
            ]
           ]
          },
          "colorway": [
           "#636efa",
           "#EF553B",
           "#00cc96",
           "#ab63fa",
           "#FFA15A",
           "#19d3f3",
           "#FF6692",
           "#B6E880",
           "#FF97FF",
           "#FECB52"
          ],
          "font": {
           "color": "#2a3f5f"
          },
          "geo": {
           "bgcolor": "white",
           "lakecolor": "white",
           "landcolor": "#E5ECF6",
           "showlakes": true,
           "showland": true,
           "subunitcolor": "white"
          },
          "hoverlabel": {
           "align": "left"
          },
          "hovermode": "closest",
          "mapbox": {
           "style": "light"
          },
          "paper_bgcolor": "white",
          "plot_bgcolor": "#E5ECF6",
          "polar": {
           "angularaxis": {
            "gridcolor": "white",
            "linecolor": "white",
            "ticks": ""
           },
           "bgcolor": "#E5ECF6",
           "radialaxis": {
            "gridcolor": "white",
            "linecolor": "white",
            "ticks": ""
           }
          },
          "scene": {
           "xaxis": {
            "backgroundcolor": "#E5ECF6",
            "gridcolor": "white",
            "gridwidth": 2,
            "linecolor": "white",
            "showbackground": true,
            "ticks": "",
            "zerolinecolor": "white"
           },
           "yaxis": {
            "backgroundcolor": "#E5ECF6",
            "gridcolor": "white",
            "gridwidth": 2,
            "linecolor": "white",
            "showbackground": true,
            "ticks": "",
            "zerolinecolor": "white"
           },
           "zaxis": {
            "backgroundcolor": "#E5ECF6",
            "gridcolor": "white",
            "gridwidth": 2,
            "linecolor": "white",
            "showbackground": true,
            "ticks": "",
            "zerolinecolor": "white"
           }
          },
          "shapedefaults": {
           "line": {
            "color": "#2a3f5f"
           }
          },
          "ternary": {
           "aaxis": {
            "gridcolor": "white",
            "linecolor": "white",
            "ticks": ""
           },
           "baxis": {
            "gridcolor": "white",
            "linecolor": "white",
            "ticks": ""
           },
           "bgcolor": "#E5ECF6",
           "caxis": {
            "gridcolor": "white",
            "linecolor": "white",
            "ticks": ""
           }
          },
          "title": {
           "x": 0.05
          },
          "xaxis": {
           "automargin": true,
           "gridcolor": "white",
           "linecolor": "white",
           "ticks": "",
           "zerolinecolor": "white",
           "zerolinewidth": 2
          },
          "yaxis": {
           "automargin": true,
           "gridcolor": "white",
           "linecolor": "white",
           "ticks": "",
           "zerolinecolor": "white",
           "zerolinewidth": 2
          }
         }
        },
        "title": {
         "text": "72字元短文字壓縮率比較(越低越佳)"
        },
        "width": 1000,
        "xaxis": {
         "anchor": "y",
         "autorange": true,
         "domain": [
          0,
          1
         ],
         "range": [
          -0.5,
          4.5
         ],
         "type": "category"
        },
        "yaxis": {
         "anchor": "x",
         "autorange": true,
         "domain": [
          0,
          1
         ],
         "range": [
          0,
          3.4502923976608186
         ],
         "type": "linear"
        }
       }
      },
      "image/png": "[encoded data removed]",
      "text/html": [
       "<div>\n",
       "        \n",
       "        \n",
       "            <div id=\"ea21ee6a-12c5-4bec-b078-6958f504a773\" class=\"plotly-graph-div\" style=\"height:500px; width:1000px;\"></div>\n",
       "            <script type=\"text/javascript\">\n",
       "                require([\"plotly\"], function(Plotly) {\n",
       "                    window.PLOTLYENV=window.PLOTLYENV || {};\n",
       "                    \n",
       "                if (document.getElementById(\"ea21ee6a-12c5-4bec-b078-6958f504a773\")) {\n",
       "                    Plotly.newPlot(\n",
       "                        'ea21ee6a-12c5-4bec-b078-6958f504a773',\n",
       "                        [{\"name\": \"BROTLI\", \"type\": \"bar\", \"x\": [\"\\u539f\\u5b57\\u4e32\", \"\\u8f49Hex\", \"\\u8f49Base64\", \"\\u91cd\\u8907\\u5b57\\u4e32\", \"100x\\u9577\\u5ea6\"], \"xaxis\": \"x\", \"y\": [\"1.1666666666666667\", \"1.5\", \"1.6666666666666667\", \"0.5\", \"0.8711111111111111\"], \"yaxis\": \"y\"}, {\"name\": \"BZIP2\", \"type\": \"bar\", \"x\": [\"\\u539f\\u5b57\\u4e32\", \"\\u8f49Hex\", \"\\u8f49Base64\", \"\\u91cd\\u8907\\u5b57\\u4e32\", \"100x\\u9577\\u5ea6\"], \"xaxis\": \"x\", \"y\": [\"1.8888888888888888\", \"2.0555555555555554\", \"2.2777777777777777\", \"1.2222222222222223\", \"0.8872222222222222\"], \"yaxis\": \"y\"}, {\"name\": \"LZMA\", \"type\": \"bar\", \"x\": [\"\\u539f\\u5b57\\u4e32\", \"\\u8f49Hex\", \"\\u8f49Base64\", \"\\u91cd\\u8907\\u5b57\\u4e32\", \"100x\\u9577\\u5ea6\"], \"xaxis\": \"x\", \"y\": [\"2.388888888888889\", \"3.2777777777777777\", \"2.8333333333333335\", \"1.6666666666666667\", \"0.9122222222222223\"], \"yaxis\": \"y\"}, {\"name\": \"ZSTD\", \"type\": \"bar\", \"x\": [\"\\u539f\\u5b57\\u4e32\", \"\\u8f49Hex\", \"\\u8f49Base64\", \"\\u91cd\\u8907\\u5b57\\u4e32\", \"100x\\u9577\\u5ea6\"], \"xaxis\": \"x\", \"y\": [\"1.5\", \"1.7222222222222223\", \"1.8333333333333333\", \"0.6111111111111112\", \"0.875\"], \"yaxis\": \"y\"}],\n",
       "                        {\"height\": 500, \"showlegend\": true, \"template\": {\"data\": {\"bar\": [{\"error_x\": {\"color\": \"#2a3f5f\"}, \"error_y\": {\"color\": \"#2a3f5f\"}, \"marker\": {\"line\": {\"color\": \"#E5ECF6\", \"width\": 0.5}}, \"type\": \"bar\"}], \"barpolar\": [{\"marker\": {\"line\": {\"color\": \"#E5ECF6\", \"width\": 0.5}}, \"type\": \"barpolar\"}], \"carpet\": [{\"aaxis\": {\"endlinecolor\": \"#2a3f5f\", \"gridcolor\": \"white\", \"linecolor\": \"white\", \"minorgridcolor\": \"white\", \"startlinecolor\": \"#2a3f5f\"}, \"baxis\": {\"endlinecolor\": \"#2a3f5f\", \"gridcolor\": \"white\", \"linecolor\": \"white\", \"minorgridcolor\": \"white\", \"startlinecolor\": \"#2a3f5f\"}, \"type\": \"carpet\"}], \"choropleth\": [{\"colorbar\": {\"outlinewidth\": 0, \"ticks\": \"\"}, \"type\": \"choropleth\"}], \"contour\": [{\"colorbar\": {\"outlinewidth\": 0, \"ticks\": \"\"}, \"colorscale\": [[0.0, \"#0d0887\"], [0.1111111111111111, \"#46039f\"], [0.2222222222222222, \"#7201a8\"], [0.3333333333333333, \"#9c179e\"], [0.4444444444444444, \"#bd3786\"], [0.5555555555555556, \"#d8576b\"], [0.6666666666666666, \"#ed7953\"], [0.7777777777777778, \"#fb9f3a\"], [0.8888888888888888, \"#fdca26\"], [1.0, \"#f0f921\"]], \"type\": \"contour\"}], \"contourcarpet\": [{\"colorbar\": {\"outlinewidth\": 0, \"ticks\": \"\"}, \"type\": \"contourcarpet\"}], \"heatmap\": [{\"colorbar\": {\"outlinewidth\": 0, \"ticks\": \"\"}, \"colorscale\": [[0.0, \"#0d0887\"], [0.1111111111111111, \"#46039f\"], [0.2222222222222222, \"#7201a8\"], [0.3333333333333333, \"#9c179e\"], [0.4444444444444444, \"#bd3786\"], [0.5555555555555556, \"#d8576b\"], [0.6666666666666666, \"#ed7953\"], [0.7777777777777778, \"#fb9f3a\"], [0.8888888888888888, \"#fdca26\"], [1.0, \"#f0f921\"]], \"type\": \"heatmap\"}], \"heatmapgl\": [{\"colorbar\": {\"outlinewidth\": 0, \"ticks\": \"\"}, \"colorscale\": [[0.0, \"#0d0887\"], [0.1111111111111111, \"#46039f\"], [0.2222222222222222, \"#7201a8\"], [0.3333333333333333, \"#9c179e\"], [0.4444444444444444, \"#bd3786\"], [0.5555555555555556, \"#d8576b\"], [0.6666666666666666, \"#ed7953\"], [0.7777777777777778, \"#fb9f3a\"], [0.8888888888888888, \"#fdca26\"], [1.0, \"#f0f921\"]], \"type\": \"heatmapgl\"}], \"histogram\": [{\"marker\": {\"colorbar\": {\"outlinewidth\": 0, \"ticks\": \"\"}}, \"type\": \"histogram\"}], \"histogram2d\": [{\"colorbar\": {\"outlinewidth\": 0, \"ticks\": \"\"}, \"colorscale\": [[0.0, \"#0d0887\"], [0.1111111111111111, \"#46039f\"], [0.2222222222222222, \"#7201a8\"], [0.3333333333333333, \"#9c179e\"], [0.4444444444444444, \"#bd3786\"], [0.5555555555555556, \"#d8576b\"], [0.6666666666666666, \"#ed7953\"], [0.7777777777777778, \"#fb9f3a\"], [0.8888888888888888, \"#fdca26\"], [1.0, \"#f0f921\"]], \"type\": \"histogram2d\"}], \"histogram2dcontour\": [{\"colorbar\": {\"outlinewidth\": 0, \"ticks\": \"\"}, \"colorscale\": [[0.0, \"#0d0887\"], [0.1111111111111111, \"#46039f\"], [0.2222222222222222, \"#7201a8\"], [0.3333333333333333, \"#9c179e\"], [0.4444444444444444, \"#bd3786\"], [0.5555555555555556, \"#d8576b\"], [0.6666666666666666, \"#ed7953\"], [0.7777777777777778, \"#fb9f3a\"], [0.8888888888888888, \"#fdca26\"], [1.0, \"#f0f921\"]], \"type\": \"histogram2dcontour\"}], \"mesh3d\": [{\"colorbar\": {\"outlinewidth\": 0, \"ticks\": \"\"}, \"type\": \"mesh3d\"}], \"parcoords\": [{\"line\": {\"colorbar\": {\"outlinewidth\": 0, \"ticks\": \"\"}}, \"type\": \"parcoords\"}], \"scatter\": [{\"marker\": {\"colorbar\": {\"outlinewidth\": 0, \"ticks\": \"\"}}, \"type\": \"scatter\"}], \"scatter3d\": [{\"line\": {\"colorbar\": {\"outlinewidth\": 0, \"ticks\": \"\"}}, \"marker\": {\"colorbar\": {\"outlinewidth\": 0, \"ticks\": \"\"}}, \"type\": \"scatter3d\"}], \"scattercarpet\": [{\"marker\": {\"colorbar\": {\"outlinewidth\": 0, \"ticks\": \"\"}}, \"type\": \"scattercarpet\"}], \"scattergeo\": [{\"marker\": {\"colorbar\": {\"outlinewidth\": 0, \"ticks\": \"\"}}, \"type\": \"scattergeo\"}], \"scattergl\": [{\"marker\": {\"colorbar\": {\"outlinewidth\": 0, \"ticks\": \"\"}}, \"type\": \"scattergl\"}], \"scattermapbox\": [{\"marker\": {\"colorbar\": {\"outlinewidth\": 0, \"ticks\": \"\"}}, \"type\": \"scattermapbox\"}], \"scatterpolar\": [{\"marker\": {\"colorbar\": {\"outlinewidth\": 0, \"ticks\": \"\"}}, \"type\": \"scatterpolar\"}], \"scatterpolargl\": [{\"marker\": {\"colorbar\": {\"outlinewidth\": 0, \"ticks\": \"\"}}, \"type\": \"scatterpolargl\"}], \"scatterternary\": [{\"marker\": {\"colorbar\": {\"outlinewidth\": 0, \"ticks\": \"\"}}, \"type\": \"scatterternary\"}], \"surface\": [{\"colorbar\": {\"outlinewidth\": 0, \"ticks\": \"\"}, \"colorscale\": [[0.0, \"#0d0887\"], [0.1111111111111111, \"#46039f\"], [0.2222222222222222, \"#7201a8\"], [0.3333333333333333, \"#9c179e\"], [0.4444444444444444, \"#bd3786\"], [0.5555555555555556, \"#d8576b\"], [0.6666666666666666, \"#ed7953\"], [0.7777777777777778, \"#fb9f3a\"], [0.8888888888888888, \"#fdca26\"], [1.0, \"#f0f921\"]], \"type\": \"surface\"}], \"table\": [{\"cells\": {\"fill\": {\"color\": \"#EBF0F8\"}, \"line\": {\"color\": \"white\"}}, \"header\": {\"fill\": {\"color\": \"#C8D4E3\"}, \"line\": {\"color\": \"white\"}}, \"type\": \"table\"}]}, \"layout\": {\"annotationdefaults\": {\"arrowcolor\": \"#2a3f5f\", \"arrowhead\": 0, \"arrowwidth\": 1}, \"colorscale\": {\"diverging\": [[0, \"#8e0152\"], [0.1, \"#c51b7d\"], [0.2, \"#de77ae\"], [0.3, \"#f1b6da\"], [0.4, \"#fde0ef\"], [0.5, \"#f7f7f7\"], [0.6, \"#e6f5d0\"], [0.7, \"#b8e186\"], [0.8, \"#7fbc41\"], [0.9, \"#4d9221\"], [1, \"#276419\"]], \"sequential\": [[0.0, \"#0d0887\"], [0.1111111111111111, \"#46039f\"], [0.2222222222222222, \"#7201a8\"], [0.3333333333333333, \"#9c179e\"], [0.4444444444444444, \"#bd3786\"], [0.5555555555555556, \"#d8576b\"], [0.6666666666666666, \"#ed7953\"], [0.7777777777777778, \"#fb9f3a\"], [0.8888888888888888, \"#fdca26\"], [1.0, \"#f0f921\"]], \"sequentialminus\": [[0.0, \"#0d0887\"], [0.1111111111111111, \"#46039f\"], [0.2222222222222222, \"#7201a8\"], [0.3333333333333333, \"#9c179e\"], [0.4444444444444444, \"#bd3786\"], [0.5555555555555556, \"#d8576b\"], [0.6666666666666666, \"#ed7953\"], [0.7777777777777778, \"#fb9f3a\"], [0.8888888888888888, \"#fdca26\"], [1.0, \"#f0f921\"]]}, \"colorway\": [\"#636efa\", \"#EF553B\", \"#00cc96\", \"#ab63fa\", \"#FFA15A\", \"#19d3f3\", \"#FF6692\", \"#B6E880\", \"#FF97FF\", \"#FECB52\"], \"font\": {\"color\": \"#2a3f5f\"}, \"geo\": {\"bgcolor\": \"white\", \"lakecolor\": \"white\", \"landcolor\": \"#E5ECF6\", \"showlakes\": true, \"showland\": true, \"subunitcolor\": \"white\"}, \"hoverlabel\": {\"align\": \"left\"}, \"hovermode\": \"closest\", \"mapbox\": {\"style\": \"light\"}, \"paper_bgcolor\": \"white\", \"plot_bgcolor\": \"#E5ECF6\", \"polar\": {\"angularaxis\": {\"gridcolor\": \"white\", \"linecolor\": \"white\", \"ticks\": \"\"}, \"bgcolor\": \"#E5ECF6\", \"radialaxis\": {\"gridcolor\": \"white\", \"linecolor\": \"white\", \"ticks\": \"\"}}, \"scene\": {\"xaxis\": {\"backgroundcolor\": \"#E5ECF6\", \"gridcolor\": \"white\", \"gridwidth\": 2, \"linecolor\": \"white\", \"showbackground\": true, \"ticks\": \"\", \"zerolinecolor\": \"white\"}, \"yaxis\": {\"backgroundcolor\": \"#E5ECF6\", \"gridcolor\": \"white\", \"gridwidth\": 2, \"linecolor\": \"white\", \"showbackground\": true, \"ticks\": \"\", \"zerolinecolor\": \"white\"}, \"zaxis\": {\"backgroundcolor\": \"#E5ECF6\", \"gridcolor\": \"white\", \"gridwidth\": 2, \"linecolor\": \"white\", \"showbackground\": true, \"ticks\": \"\", \"zerolinecolor\": \"white\"}}, \"shapedefaults\": {\"line\": {\"color\": \"#2a3f5f\"}}, \"ternary\": {\"aaxis\": {\"gridcolor\": \"white\", \"linecolor\": \"white\", \"ticks\": \"\"}, \"baxis\": {\"gridcolor\": \"white\", \"linecolor\": \"white\", \"ticks\": \"\"}, \"bgcolor\": \"#E5ECF6\", \"caxis\": {\"gridcolor\": \"white\", \"linecolor\": \"white\", \"ticks\": \"\"}}, \"title\": {\"x\": 0.05}, \"xaxis\": {\"automargin\": true, \"gridcolor\": \"white\", \"linecolor\": \"white\", \"ticks\": \"\", \"zerolinecolor\": \"white\", \"zerolinewidth\": 2}, \"yaxis\": {\"automargin\": true, \"gridcolor\": \"white\", \"linecolor\": \"white\", \"ticks\": \"\", \"zerolinecolor\": \"white\", \"zerolinewidth\": 2}}}, \"title\": {\"text\": \"72\\u5b57\\u5143\\u77ed\\u6587\\u5b57\\u58d3\\u7e2e\\u7387\\u6bd4\\u8f03(\\u8d8a\\u4f4e\\u8d8a\\u4f73)\"}, \"width\": 1000, \"xaxis\": {\"anchor\": \"y\", \"domain\": [0.0, 1.0]}, \"yaxis\": {\"anchor\": \"x\", \"domain\": [0.0, 1.0]}},\n",
       "                        {\"responsive\": true}\n",
       "                    ).then(function(){\n",
       "                            \n",
       "var gd = document.getElementById('ea21ee6a-12c5-4bec-b078-6958f504a773');\n",
       "var x = new MutationObserver(function (mutations, observer) {{\n",
       "        var display = window.getComputedStyle(gd).display;\n",
       "        if (!display || display === 'none') {{\n",
       "            console.log([gd, 'removed!']);\n",
       "            Plotly.purge(gd);\n",
       "            observer.disconnect();\n",
       "        }}\n",
       "}});\n",
       "\n",
       "// Listen for the removal of the full notebook cells\n",
       "var notebookContainer = gd.closest('#notebook-container');\n",
       "if (notebookContainer) {{\n",
       "    x.observe(notebookContainer, {childList: true});\n",
       "}}\n",
       "\n",
       "// Listen for the clearing of the current output cell\n",
       "var outputEl = gd.closest('.output');\n",
       "if (outputEl) {{\n",
       "    x.observe(outputEl, {childList: true});\n",
       "}}\n",
       "\n",
       "                        })\n",
       "                };\n",
       "                });\n",
       "            </script>\n",
       "        </div>"
      ]
     },
     "metadata": {},
     "output_type": "display_data"
    }
   ],
   "source": [
    "compressMethodList = ['BROTLI', 'BZIP2', 'LZMA', 'ZSTD']\n",
    "\n",
    "%matplotlib inline\n",
    "\n",
    "import numpy as np\n",
    "import pandas as pd\n",
    "import matplotlib.pyplot as plt\n",
    "\n",
    "compResNpArray = np.array(compressResultLists)\n",
    "resultDF = pd.DataFrame(compResNpArray, columns=['Method','Origin', 'C-Str', 'C-StrR', 'C-Hex', 'C-HexR', 'C-Base64', 'C-Base64R', 'C-Repeat', 'C-RepeatR', 'C-Str100x', 'C-Str100xR'], index=compressMethodList)\n",
    "print(resultDF)\n",
    "\n",
    "\n",
    "rateDF = resultDF[['C-StrR', 'C-HexR', 'C-Base64R', 'C-RepeatR', 'C-Str100xR']]\n",
    "rateLists = rateDF.values.tolist()\n",
    "\n",
    "chartLabList = ['原字串', '轉Hex', '轉Base64', '重複字串', '100x長度']\n",
    "\n",
    "!pip install plotly\n",
    "import plotly.graph_objects as go\n",
    "from plotly.subplots import make_subplots\n",
    "\n",
    "# Make figure with subplots\n",
    "fig = make_subplots(rows=1, cols=1, specs=[[{\"type\": \"bar\"}]])\n",
    "\n",
    "for idx, val in enumerate(rateLists):\n",
    "    fig.add_trace(go.Bar(y=val ,x=chartLabList, name=compressMethodList[idx]), row=1, col=1)    \n",
    "\n",
    "\n",
    "# Show legend\n",
    "fig.update_layout(\n",
    "    showlegend=True,\n",
    "    title_text=\"72字元短文字壓縮率比較(越低越佳)\",\n",
    "    height=500,\n",
    "    width=1000,\n",
    ")\n",
    "\n",
    "fig.show()"
   ]
  },
  {
   "cell_type": "markdown",
   "metadata": {},
   "source": [
    "## 壓縮挑選法參考依據\n",
    "https://quixdb.github.io/squash-benchmark/unstable/"
   ]
  },
  {
   "cell_type": "code",
   "execution_count": 2,
   "metadata": {},
   "outputs": [
    {
     "name": "stdout",
     "output_type": "stream",
     "text": [
      "Collecting altair\n",
      "\u001b[?25l  Downloading https://files.pythonhosted.org/packages/34/24/3e50e226a79db1bb1427bf8c58cc4dc7c2f74c39b728af005f4b11d1760c/altair-3.2.0-py2.py3-none-any.whl (596kB)\n",
      "\u001b[K    100% |████████████████████████████████| 604kB 2.7MB/s ta 0:00:011\n",
      "\u001b[?25hRequirement already satisfied: jsonschema in /anaconda3/lib/python3.7/site-packages (from altair) (3.0.1)\n",
      "Requirement already satisfied: toolz in /anaconda3/lib/python3.7/site-packages (from altair) (0.9.0)\n",
      "Requirement already satisfied: pandas in /anaconda3/lib/python3.7/site-packages (from altair) (0.25.0)\n",
      "Requirement already satisfied: numpy in /anaconda3/lib/python3.7/site-packages (from altair) (1.16.2)\n",
      "Requirement already satisfied: jinja2 in /anaconda3/lib/python3.7/site-packages (from altair) (2.10)\n",
      "Requirement already satisfied: entrypoints in /anaconda3/lib/python3.7/site-packages (from altair) (0.3)\n",
      "Requirement already satisfied: six in /anaconda3/lib/python3.7/site-packages (from altair) (1.12.0)\n",
      "Requirement already satisfied: attrs>=17.4.0 in /anaconda3/lib/python3.7/site-packages (from jsonschema->altair) (19.1.0)\n",
      "Requirement already satisfied: pyrsistent>=0.14.0 in /anaconda3/lib/python3.7/site-packages (from jsonschema->altair) (0.14.11)\n",
      "Requirement already satisfied: setuptools in /anaconda3/lib/python3.7/site-packages (from jsonschema->altair) (40.8.0)\n",
      "Requirement already satisfied: python-dateutil>=2.6.1 in /anaconda3/lib/python3.7/site-packages (from pandas->altair) (2.8.0)\n",
      "Requirement already satisfied: pytz>=2017.2 in /anaconda3/lib/python3.7/site-packages (from pandas->altair) (2018.9)\n",
      "Requirement already satisfied: MarkupSafe>=0.23 in /anaconda3/lib/python3.7/site-packages (from jinja2->altair) (1.1.1)\n",
      "Installing collected packages: altair\n",
      "Successfully installed altair-3.2.0\n"
     ]
    },
    {
     "ename": "ModuleNotFoundError",
     "evalue": "No module named 'vega_datasets'",
     "output_type": "error",
     "traceback": [
      "\u001b[0;31m---------------------------------------------------------------------------\u001b[0m",
      "\u001b[0;31mModuleNotFoundError\u001b[0m                       Traceback (most recent call last)",
      "\u001b[0;32m<ipython-input-2-edd7d0c5e8e6>\u001b[0m in \u001b[0;36m<module>\u001b[0;34m\u001b[0m\n\u001b[1;32m      6\u001b[0m \u001b[0;34m\u001b[0m\u001b[0m\n\u001b[1;32m      7\u001b[0m \u001b[0;31m# load a simple dataset as a pandas DataFrame\u001b[0m\u001b[0;34m\u001b[0m\u001b[0;34m\u001b[0m\u001b[0;34m\u001b[0m\u001b[0m\n\u001b[0;32m----> 8\u001b[0;31m \u001b[0;32mfrom\u001b[0m \u001b[0mvega_datasets\u001b[0m \u001b[0;32mimport\u001b[0m \u001b[0mdata\u001b[0m\u001b[0;34m\u001b[0m\u001b[0;34m\u001b[0m\u001b[0m\n\u001b[0m\u001b[1;32m      9\u001b[0m \u001b[0mcars\u001b[0m \u001b[0;34m=\u001b[0m \u001b[0mdata\u001b[0m\u001b[0;34m.\u001b[0m\u001b[0mcars\u001b[0m\u001b[0;34m(\u001b[0m\u001b[0;34m)\u001b[0m\u001b[0;34m\u001b[0m\u001b[0;34m\u001b[0m\u001b[0m\n\u001b[1;32m     10\u001b[0m \u001b[0;34m\u001b[0m\u001b[0m\n",
      "\u001b[0;31mModuleNotFoundError\u001b[0m: No module named 'vega_datasets'"
     ]
    }
   ],
   "source": [
    "!pip install altair vega_datasets\n",
    "import altair as alt\n",
    "\n",
    "# to use with Jupyter notebook (not JupyterLab) run the following\n",
    "# alt.renderers.enable('notebook')\n",
    "\n",
    "# load a simple dataset as a pandas DataFrame\n",
    "from vega_datasets import data\n",
    "cars = data.cars()\n",
    "\n",
    "alt.Chart(cars).mark_point().encode(\n",
    "    x='Horsepower',\n",
    "    y='Miles_per_Gallon',\n",
    "    color='Origin',\n",
    ")\n"
   ]
  },
  {
   "cell_type": "code",
   "execution_count": null,
   "metadata": {},
   "outputs": [],
   "source": []
  }
 ],
 "metadata": {
  "kernelspec": {
   "display_name": "Python 3",
   "language": "python",
   "name": "python3"
  },
  "language_info": {
   "codemirror_mode": {
    "name": "ipython",
    "version": 3
   },
   "file_extension": ".py",
   "mimetype": "text/x-python",
   "name": "python",
   "nbconvert_exporter": "python",
   "pygments_lexer": "ipython3",
   "version": "3.7.3"
  }
 },
 "nbformat": 4,
 "nbformat_minor": 4
}
